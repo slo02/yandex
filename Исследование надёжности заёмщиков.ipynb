{
 "cells": [
  {
   "cell_type": "markdown",
   "id": "6163adf3",
   "metadata": {
    "deletable": false,
    "editable": false,
    "id": "c81daeeb"
   },
   "source": [
    "# Исследование надежности заемщиков\n"
   ]
  },
  {
   "cell_type": "markdown",
   "id": "14a2c493",
   "metadata": {},
   "source": [
    "Описание проекта\n",
    "Заказчик — кредитный отдел банка. Нужно разобраться, влияет ли семейное положение и количество детей клиента на факт погашения кредита в срок. Входные данные от банка — статистика о платёжеспособности клиентов.\n",
    "Результаты исследования будут учтены при построении модели кредитного скоринга — специальной системы, которая оценивает способность потенциального заёмщика вернуть кредит банку.\n",
    "\n",
    "Описание данных:\n",
    "\n",
    "    children — количество детей в семье\n",
    "    days_employed — общий трудовой стаж в днях\n",
    "    dob_years — возраст клиента в годах\n",
    "    education — уровень образования клиента\n",
    "    education_id — идентификатор уровня образования\n",
    "    family_status — семейное положение\n",
    "    family_status_id — идентификатор семейного положения\n",
    "    gender — пол клиента\n",
    "    income_type — тип занятости\n",
    "    debt — имел ли задолженность по возврату кредитов\n",
    "    total_income — ежемесячный доход\n",
    "    purpose — цель получения кредита"
   ]
  },
  {
   "cell_type": "markdown",
   "id": "5ea86378",
   "metadata": {
    "deletable": false,
    "editable": false,
    "id": "744d7639"
   },
   "source": [
    "## Откройте таблицу и изучите общую информацию о данных"
   ]
  },
  {
   "cell_type": "markdown",
   "id": "c90b1bf5",
   "metadata": {
    "deletable": false,
    "editable": false,
    "id": "e7a14c31"
   },
   "source": [
    "**Задание 1. Импортируйте библиотеку pandas. Считайте данные из csv-файла в датафрейм и сохраните в переменную `data`. Путь к файлу:**\n",
    "\n",
    "`/datasets/data.csv`"
   ]
  },
  {
   "cell_type": "code",
   "execution_count": 2,
   "id": "05984240",
   "metadata": {
    "deletable": false,
    "id": "7bcf75c9"
   },
   "outputs": [],
   "source": [
    "import pandas as pd\n",
    "import seaborn as sns\n",
    "\n",
    "try:\n",
    "    data = pd.read_csv('/datasets/data.csv')\n",
    "except:\n",
    "    data = pd.read_csv('https://code.s3.yandex.net/datasets/data.csv')"
   ]
  },
  {
   "cell_type": "markdown",
   "id": "e0df894f",
   "metadata": {
    "deletable": false,
    "editable": false,
    "id": "b8038fe3"
   },
   "source": [
    "**Задание 2. Выведите первые 20 строчек датафрейма `data` на экран.**"
   ]
  },
  {
   "cell_type": "code",
   "execution_count": 3,
   "id": "6d6aba36",
   "metadata": {
    "deletable": false,
    "id": "2a7cab99",
    "outputId": "1a8f3ef2-d323-4ec2-ddf7-89670b5944c4"
   },
   "outputs": [
    {
     "data": {
      "text/html": [
       "<div>\n",
       "<style scoped>\n",
       "    .dataframe tbody tr th:only-of-type {\n",
       "        vertical-align: middle;\n",
       "    }\n",
       "\n",
       "    .dataframe tbody tr th {\n",
       "        vertical-align: top;\n",
       "    }\n",
       "\n",
       "    .dataframe thead th {\n",
       "        text-align: right;\n",
       "    }\n",
       "</style>\n",
       "<table border=\"1\" class=\"dataframe\">\n",
       "  <thead>\n",
       "    <tr style=\"text-align: right;\">\n",
       "      <th></th>\n",
       "      <th>children</th>\n",
       "      <th>days_employed</th>\n",
       "      <th>dob_years</th>\n",
       "      <th>education</th>\n",
       "      <th>education_id</th>\n",
       "      <th>family_status</th>\n",
       "      <th>family_status_id</th>\n",
       "      <th>gender</th>\n",
       "      <th>income_type</th>\n",
       "      <th>debt</th>\n",
       "      <th>total_income</th>\n",
       "      <th>purpose</th>\n",
       "    </tr>\n",
       "  </thead>\n",
       "  <tbody>\n",
       "    <tr>\n",
       "      <th>0</th>\n",
       "      <td>1</td>\n",
       "      <td>-8437.673028</td>\n",
       "      <td>42</td>\n",
       "      <td>высшее</td>\n",
       "      <td>0</td>\n",
       "      <td>женат / замужем</td>\n",
       "      <td>0</td>\n",
       "      <td>F</td>\n",
       "      <td>сотрудник</td>\n",
       "      <td>0</td>\n",
       "      <td>253875.639453</td>\n",
       "      <td>покупка жилья</td>\n",
       "    </tr>\n",
       "    <tr>\n",
       "      <th>1</th>\n",
       "      <td>1</td>\n",
       "      <td>-4024.803754</td>\n",
       "      <td>36</td>\n",
       "      <td>среднее</td>\n",
       "      <td>1</td>\n",
       "      <td>женат / замужем</td>\n",
       "      <td>0</td>\n",
       "      <td>F</td>\n",
       "      <td>сотрудник</td>\n",
       "      <td>0</td>\n",
       "      <td>112080.014102</td>\n",
       "      <td>приобретение автомобиля</td>\n",
       "    </tr>\n",
       "    <tr>\n",
       "      <th>2</th>\n",
       "      <td>0</td>\n",
       "      <td>-5623.422610</td>\n",
       "      <td>33</td>\n",
       "      <td>Среднее</td>\n",
       "      <td>1</td>\n",
       "      <td>женат / замужем</td>\n",
       "      <td>0</td>\n",
       "      <td>M</td>\n",
       "      <td>сотрудник</td>\n",
       "      <td>0</td>\n",
       "      <td>145885.952297</td>\n",
       "      <td>покупка жилья</td>\n",
       "    </tr>\n",
       "    <tr>\n",
       "      <th>3</th>\n",
       "      <td>3</td>\n",
       "      <td>-4124.747207</td>\n",
       "      <td>32</td>\n",
       "      <td>среднее</td>\n",
       "      <td>1</td>\n",
       "      <td>женат / замужем</td>\n",
       "      <td>0</td>\n",
       "      <td>M</td>\n",
       "      <td>сотрудник</td>\n",
       "      <td>0</td>\n",
       "      <td>267628.550329</td>\n",
       "      <td>дополнительное образование</td>\n",
       "    </tr>\n",
       "    <tr>\n",
       "      <th>4</th>\n",
       "      <td>0</td>\n",
       "      <td>340266.072047</td>\n",
       "      <td>53</td>\n",
       "      <td>среднее</td>\n",
       "      <td>1</td>\n",
       "      <td>гражданский брак</td>\n",
       "      <td>1</td>\n",
       "      <td>F</td>\n",
       "      <td>пенсионер</td>\n",
       "      <td>0</td>\n",
       "      <td>158616.077870</td>\n",
       "      <td>сыграть свадьбу</td>\n",
       "    </tr>\n",
       "    <tr>\n",
       "      <th>5</th>\n",
       "      <td>0</td>\n",
       "      <td>-926.185831</td>\n",
       "      <td>27</td>\n",
       "      <td>высшее</td>\n",
       "      <td>0</td>\n",
       "      <td>гражданский брак</td>\n",
       "      <td>1</td>\n",
       "      <td>M</td>\n",
       "      <td>компаньон</td>\n",
       "      <td>0</td>\n",
       "      <td>255763.565419</td>\n",
       "      <td>покупка жилья</td>\n",
       "    </tr>\n",
       "    <tr>\n",
       "      <th>6</th>\n",
       "      <td>0</td>\n",
       "      <td>-2879.202052</td>\n",
       "      <td>43</td>\n",
       "      <td>высшее</td>\n",
       "      <td>0</td>\n",
       "      <td>женат / замужем</td>\n",
       "      <td>0</td>\n",
       "      <td>F</td>\n",
       "      <td>компаньон</td>\n",
       "      <td>0</td>\n",
       "      <td>240525.971920</td>\n",
       "      <td>операции с жильем</td>\n",
       "    </tr>\n",
       "    <tr>\n",
       "      <th>7</th>\n",
       "      <td>0</td>\n",
       "      <td>-152.779569</td>\n",
       "      <td>50</td>\n",
       "      <td>СРЕДНЕЕ</td>\n",
       "      <td>1</td>\n",
       "      <td>женат / замужем</td>\n",
       "      <td>0</td>\n",
       "      <td>M</td>\n",
       "      <td>сотрудник</td>\n",
       "      <td>0</td>\n",
       "      <td>135823.934197</td>\n",
       "      <td>образование</td>\n",
       "    </tr>\n",
       "    <tr>\n",
       "      <th>8</th>\n",
       "      <td>2</td>\n",
       "      <td>-6929.865299</td>\n",
       "      <td>35</td>\n",
       "      <td>ВЫСШЕЕ</td>\n",
       "      <td>0</td>\n",
       "      <td>гражданский брак</td>\n",
       "      <td>1</td>\n",
       "      <td>F</td>\n",
       "      <td>сотрудник</td>\n",
       "      <td>0</td>\n",
       "      <td>95856.832424</td>\n",
       "      <td>на проведение свадьбы</td>\n",
       "    </tr>\n",
       "    <tr>\n",
       "      <th>9</th>\n",
       "      <td>0</td>\n",
       "      <td>-2188.756445</td>\n",
       "      <td>41</td>\n",
       "      <td>среднее</td>\n",
       "      <td>1</td>\n",
       "      <td>женат / замужем</td>\n",
       "      <td>0</td>\n",
       "      <td>M</td>\n",
       "      <td>сотрудник</td>\n",
       "      <td>0</td>\n",
       "      <td>144425.938277</td>\n",
       "      <td>покупка жилья для семьи</td>\n",
       "    </tr>\n",
       "    <tr>\n",
       "      <th>10</th>\n",
       "      <td>2</td>\n",
       "      <td>-4171.483647</td>\n",
       "      <td>36</td>\n",
       "      <td>высшее</td>\n",
       "      <td>0</td>\n",
       "      <td>женат / замужем</td>\n",
       "      <td>0</td>\n",
       "      <td>M</td>\n",
       "      <td>компаньон</td>\n",
       "      <td>0</td>\n",
       "      <td>113943.491460</td>\n",
       "      <td>покупка недвижимости</td>\n",
       "    </tr>\n",
       "    <tr>\n",
       "      <th>11</th>\n",
       "      <td>0</td>\n",
       "      <td>-792.701887</td>\n",
       "      <td>40</td>\n",
       "      <td>среднее</td>\n",
       "      <td>1</td>\n",
       "      <td>женат / замужем</td>\n",
       "      <td>0</td>\n",
       "      <td>F</td>\n",
       "      <td>сотрудник</td>\n",
       "      <td>0</td>\n",
       "      <td>77069.234271</td>\n",
       "      <td>покупка коммерческой недвижимости</td>\n",
       "    </tr>\n",
       "    <tr>\n",
       "      <th>12</th>\n",
       "      <td>0</td>\n",
       "      <td>NaN</td>\n",
       "      <td>65</td>\n",
       "      <td>среднее</td>\n",
       "      <td>1</td>\n",
       "      <td>гражданский брак</td>\n",
       "      <td>1</td>\n",
       "      <td>M</td>\n",
       "      <td>пенсионер</td>\n",
       "      <td>0</td>\n",
       "      <td>NaN</td>\n",
       "      <td>сыграть свадьбу</td>\n",
       "    </tr>\n",
       "    <tr>\n",
       "      <th>13</th>\n",
       "      <td>0</td>\n",
       "      <td>-1846.641941</td>\n",
       "      <td>54</td>\n",
       "      <td>неоконченное высшее</td>\n",
       "      <td>2</td>\n",
       "      <td>женат / замужем</td>\n",
       "      <td>0</td>\n",
       "      <td>F</td>\n",
       "      <td>сотрудник</td>\n",
       "      <td>0</td>\n",
       "      <td>130458.228857</td>\n",
       "      <td>приобретение автомобиля</td>\n",
       "    </tr>\n",
       "    <tr>\n",
       "      <th>14</th>\n",
       "      <td>0</td>\n",
       "      <td>-1844.956182</td>\n",
       "      <td>56</td>\n",
       "      <td>высшее</td>\n",
       "      <td>0</td>\n",
       "      <td>гражданский брак</td>\n",
       "      <td>1</td>\n",
       "      <td>F</td>\n",
       "      <td>компаньон</td>\n",
       "      <td>1</td>\n",
       "      <td>165127.911772</td>\n",
       "      <td>покупка жилой недвижимости</td>\n",
       "    </tr>\n",
       "    <tr>\n",
       "      <th>15</th>\n",
       "      <td>1</td>\n",
       "      <td>-972.364419</td>\n",
       "      <td>26</td>\n",
       "      <td>среднее</td>\n",
       "      <td>1</td>\n",
       "      <td>женат / замужем</td>\n",
       "      <td>0</td>\n",
       "      <td>F</td>\n",
       "      <td>сотрудник</td>\n",
       "      <td>0</td>\n",
       "      <td>116820.904450</td>\n",
       "      <td>строительство собственной недвижимости</td>\n",
       "    </tr>\n",
       "    <tr>\n",
       "      <th>16</th>\n",
       "      <td>0</td>\n",
       "      <td>-1719.934226</td>\n",
       "      <td>35</td>\n",
       "      <td>среднее</td>\n",
       "      <td>1</td>\n",
       "      <td>женат / замужем</td>\n",
       "      <td>0</td>\n",
       "      <td>F</td>\n",
       "      <td>сотрудник</td>\n",
       "      <td>0</td>\n",
       "      <td>289202.704229</td>\n",
       "      <td>недвижимость</td>\n",
       "    </tr>\n",
       "    <tr>\n",
       "      <th>17</th>\n",
       "      <td>0</td>\n",
       "      <td>-2369.999720</td>\n",
       "      <td>33</td>\n",
       "      <td>высшее</td>\n",
       "      <td>0</td>\n",
       "      <td>гражданский брак</td>\n",
       "      <td>1</td>\n",
       "      <td>M</td>\n",
       "      <td>сотрудник</td>\n",
       "      <td>0</td>\n",
       "      <td>90410.586745</td>\n",
       "      <td>строительство недвижимости</td>\n",
       "    </tr>\n",
       "    <tr>\n",
       "      <th>18</th>\n",
       "      <td>0</td>\n",
       "      <td>400281.136913</td>\n",
       "      <td>53</td>\n",
       "      <td>среднее</td>\n",
       "      <td>1</td>\n",
       "      <td>вдовец / вдова</td>\n",
       "      <td>2</td>\n",
       "      <td>F</td>\n",
       "      <td>пенсионер</td>\n",
       "      <td>0</td>\n",
       "      <td>56823.777243</td>\n",
       "      <td>на покупку подержанного автомобиля</td>\n",
       "    </tr>\n",
       "    <tr>\n",
       "      <th>19</th>\n",
       "      <td>0</td>\n",
       "      <td>-10038.818549</td>\n",
       "      <td>48</td>\n",
       "      <td>СРЕДНЕЕ</td>\n",
       "      <td>1</td>\n",
       "      <td>в разводе</td>\n",
       "      <td>3</td>\n",
       "      <td>F</td>\n",
       "      <td>сотрудник</td>\n",
       "      <td>0</td>\n",
       "      <td>242831.107982</td>\n",
       "      <td>на покупку своего автомобиля</td>\n",
       "    </tr>\n",
       "  </tbody>\n",
       "</table>\n",
       "</div>"
      ],
      "text/plain": [
       "    children  days_employed  dob_years            education  education_id  \\\n",
       "0          1   -8437.673028         42               высшее             0   \n",
       "1          1   -4024.803754         36              среднее             1   \n",
       "2          0   -5623.422610         33              Среднее             1   \n",
       "3          3   -4124.747207         32              среднее             1   \n",
       "4          0  340266.072047         53              среднее             1   \n",
       "5          0    -926.185831         27               высшее             0   \n",
       "6          0   -2879.202052         43               высшее             0   \n",
       "7          0    -152.779569         50              СРЕДНЕЕ             1   \n",
       "8          2   -6929.865299         35               ВЫСШЕЕ             0   \n",
       "9          0   -2188.756445         41              среднее             1   \n",
       "10         2   -4171.483647         36               высшее             0   \n",
       "11         0    -792.701887         40              среднее             1   \n",
       "12         0            NaN         65              среднее             1   \n",
       "13         0   -1846.641941         54  неоконченное высшее             2   \n",
       "14         0   -1844.956182         56               высшее             0   \n",
       "15         1    -972.364419         26              среднее             1   \n",
       "16         0   -1719.934226         35              среднее             1   \n",
       "17         0   -2369.999720         33               высшее             0   \n",
       "18         0  400281.136913         53              среднее             1   \n",
       "19         0  -10038.818549         48              СРЕДНЕЕ             1   \n",
       "\n",
       "       family_status  family_status_id gender income_type  debt  \\\n",
       "0    женат / замужем                 0      F   сотрудник     0   \n",
       "1    женат / замужем                 0      F   сотрудник     0   \n",
       "2    женат / замужем                 0      M   сотрудник     0   \n",
       "3    женат / замужем                 0      M   сотрудник     0   \n",
       "4   гражданский брак                 1      F   пенсионер     0   \n",
       "5   гражданский брак                 1      M   компаньон     0   \n",
       "6    женат / замужем                 0      F   компаньон     0   \n",
       "7    женат / замужем                 0      M   сотрудник     0   \n",
       "8   гражданский брак                 1      F   сотрудник     0   \n",
       "9    женат / замужем                 0      M   сотрудник     0   \n",
       "10   женат / замужем                 0      M   компаньон     0   \n",
       "11   женат / замужем                 0      F   сотрудник     0   \n",
       "12  гражданский брак                 1      M   пенсионер     0   \n",
       "13   женат / замужем                 0      F   сотрудник     0   \n",
       "14  гражданский брак                 1      F   компаньон     1   \n",
       "15   женат / замужем                 0      F   сотрудник     0   \n",
       "16   женат / замужем                 0      F   сотрудник     0   \n",
       "17  гражданский брак                 1      M   сотрудник     0   \n",
       "18    вдовец / вдова                 2      F   пенсионер     0   \n",
       "19         в разводе                 3      F   сотрудник     0   \n",
       "\n",
       "     total_income                                 purpose  \n",
       "0   253875.639453                           покупка жилья  \n",
       "1   112080.014102                 приобретение автомобиля  \n",
       "2   145885.952297                           покупка жилья  \n",
       "3   267628.550329              дополнительное образование  \n",
       "4   158616.077870                         сыграть свадьбу  \n",
       "5   255763.565419                           покупка жилья  \n",
       "6   240525.971920                       операции с жильем  \n",
       "7   135823.934197                             образование  \n",
       "8    95856.832424                   на проведение свадьбы  \n",
       "9   144425.938277                 покупка жилья для семьи  \n",
       "10  113943.491460                    покупка недвижимости  \n",
       "11   77069.234271       покупка коммерческой недвижимости  \n",
       "12            NaN                         сыграть свадьбу  \n",
       "13  130458.228857                 приобретение автомобиля  \n",
       "14  165127.911772              покупка жилой недвижимости  \n",
       "15  116820.904450  строительство собственной недвижимости  \n",
       "16  289202.704229                            недвижимость  \n",
       "17   90410.586745              строительство недвижимости  \n",
       "18   56823.777243      на покупку подержанного автомобиля  \n",
       "19  242831.107982            на покупку своего автомобиля  "
      ]
     },
     "execution_count": 3,
     "metadata": {},
     "output_type": "execute_result"
    }
   ],
   "source": [
    "data.head(20)"
   ]
  },
  {
   "cell_type": "markdown",
   "id": "d91a4d3f",
   "metadata": {
    "deletable": false,
    "editable": false,
    "id": "1c12e233"
   },
   "source": [
    "**Задание 3. Выведите основную информацию о датафрейме с помощью метода `info()`.**"
   ]
  },
  {
   "cell_type": "code",
   "execution_count": 4,
   "id": "1b78eeb8",
   "metadata": {
    "deletable": false,
    "id": "2b757bca",
    "outputId": "15376089-8dad-46c9-b520-c05248d43158"
   },
   "outputs": [
    {
     "name": "stdout",
     "output_type": "stream",
     "text": [
      "<class 'pandas.core.frame.DataFrame'>\n",
      "RangeIndex: 21525 entries, 0 to 21524\n",
      "Data columns (total 12 columns):\n",
      " #   Column            Non-Null Count  Dtype  \n",
      "---  ------            --------------  -----  \n",
      " 0   children          21525 non-null  int64  \n",
      " 1   days_employed     19351 non-null  float64\n",
      " 2   dob_years         21525 non-null  int64  \n",
      " 3   education         21525 non-null  object \n",
      " 4   education_id      21525 non-null  int64  \n",
      " 5   family_status     21525 non-null  object \n",
      " 6   family_status_id  21525 non-null  int64  \n",
      " 7   gender            21525 non-null  object \n",
      " 8   income_type       21525 non-null  object \n",
      " 9   debt              21525 non-null  int64  \n",
      " 10  total_income      19351 non-null  float64\n",
      " 11  purpose           21525 non-null  object \n",
      "dtypes: float64(2), int64(5), object(5)\n",
      "memory usage: 2.0+ MB\n"
     ]
    }
   ],
   "source": [
    "data.info()"
   ]
  },
  {
   "cell_type": "markdown",
   "id": "0a2bc360",
   "metadata": {
    "deletable": false,
    "editable": false,
    "id": "333ec665"
   },
   "source": [
    "## Предобработка данных"
   ]
  },
  {
   "cell_type": "markdown",
   "id": "3fea5495",
   "metadata": {
    "deletable": false,
    "editable": false,
    "id": "02d92d53"
   },
   "source": [
    "### Удаление пропусков"
   ]
  },
  {
   "cell_type": "markdown",
   "id": "fcb4a8d9",
   "metadata": {
    "deletable": false,
    "editable": false,
    "id": "cd84967c"
   },
   "source": [
    "**Задание 4. Выведите количество пропущенных значений для каждого столбца. Используйте комбинацию двух методов.**"
   ]
  },
  {
   "cell_type": "code",
   "execution_count": 5,
   "id": "d1872533",
   "metadata": {
    "deletable": false,
    "id": "7f9b2309",
    "outputId": "81f4d817-781c-465c-ed15-91ce4446810d"
   },
   "outputs": [
    {
     "data": {
      "text/plain": [
       "children               0\n",
       "days_employed       2174\n",
       "dob_years              0\n",
       "education              0\n",
       "education_id           0\n",
       "family_status          0\n",
       "family_status_id       0\n",
       "gender                 0\n",
       "income_type            0\n",
       "debt                   0\n",
       "total_income        2174\n",
       "purpose                0\n",
       "dtype: int64"
      ]
     },
     "execution_count": 5,
     "metadata": {},
     "output_type": "execute_result"
    }
   ],
   "source": [
    "data.isna().sum()"
   ]
  },
  {
   "cell_type": "markdown",
   "id": "267bc25a",
   "metadata": {
    "deletable": false,
    "editable": false,
    "id": "db86e27b"
   },
   "source": [
    "**Задание 5. В двух столбцах есть пропущенные значения. Один из них — `days_employed`. Пропуски в этом столбце вы обработаете на следующем этапе. Другой столбец с пропущенными значениями — `total_income` — хранит данные о доходах. На сумму дохода сильнее всего влияет тип занятости, поэтому заполнить пропуски в этом столбце нужно медианным значением по каждому типу из столбца `income_type`. Например, у человека с типом занятости `сотрудник` пропуск в столбце `total_income` должен быть заполнен медианным доходом среди всех записей с тем же типом.**"
   ]
  },
  {
   "cell_type": "code",
   "execution_count": 6,
   "id": "a8fda309",
   "metadata": {
    "deletable": false,
    "id": "42006a93"
   },
   "outputs": [],
   "source": [
    "for t in data['income_type'].unique():\n",
    "    data.loc[(data['income_type'] == t) & (data['total_income'].isna()), 'total_income'] = \\\n",
    "    data.loc[(data['income_type'] == t), 'total_income'].median()"
   ]
  },
  {
   "cell_type": "markdown",
   "id": "44400f28",
   "metadata": {
    "deletable": false,
    "editable": false,
    "id": "89da5ece"
   },
   "source": [
    "### Обработка аномальных значений"
   ]
  },
  {
   "cell_type": "markdown",
   "id": "6aab090b",
   "metadata": {
    "deletable": false,
    "editable": false,
    "id": "57964554"
   },
   "source": [
    "**Задание 6. В данных могут встречаться артефакты (аномалии) — значения, которые не отражают действительность и появились по какой-то ошибке. таким артефактом будет отрицательное количество дней трудового стажа в столбце `days_employed`. Для реальных данных это нормально. Обработайте значения в этом столбце: замените все отрицательные значения положительными с помощью метода `abs()`.**"
   ]
  },
  {
   "cell_type": "code",
   "execution_count": 7,
   "id": "1b84ffc5",
   "metadata": {
    "deletable": false,
    "id": "f6f055bf"
   },
   "outputs": [],
   "source": [
    "data['days_employed'] = data['days_employed'].abs()"
   ]
  },
  {
   "cell_type": "markdown",
   "id": "fb61cd94",
   "metadata": {
    "deletable": false,
    "editable": false,
    "id": "6107dd2f"
   },
   "source": [
    "**Задание 7. Для каждого типа занятости выведите медианное значение трудового стажа `days_employed` в днях.**"
   ]
  },
  {
   "cell_type": "code",
   "execution_count": 8,
   "id": "358c3f10",
   "metadata": {
    "deletable": false,
    "id": "85a5faf6",
    "outputId": "801ef80e-522b-4668-f34e-565af7432bcf"
   },
   "outputs": [
    {
     "data": {
      "text/plain": [
       "income_type\n",
       "безработный        366413.652744\n",
       "в декрете            3296.759962\n",
       "госслужащий          2689.368353\n",
       "компаньон            1547.382223\n",
       "пенсионер          365213.306266\n",
       "предприниматель       520.848083\n",
       "сотрудник            1574.202821\n",
       "студент               578.751554\n",
       "Name: days_employed, dtype: float64"
      ]
     },
     "execution_count": 8,
     "metadata": {},
     "output_type": "execute_result"
    }
   ],
   "source": [
    "data.groupby('income_type')['days_employed'].agg('median')"
   ]
  },
  {
   "cell_type": "markdown",
   "id": "bdef0c13",
   "metadata": {
    "deletable": false,
    "editable": false,
    "id": "38d1a030"
   },
   "source": [
    "У двух типов (безработные и пенсионеры) получатся аномально большие значения. Исправить такие значения сложно, поэтому оставьте их как есть. Тем более этот столбец не понадобится вам для исследования."
   ]
  },
  {
   "cell_type": "markdown",
   "id": "1c89e925",
   "metadata": {
    "deletable": false,
    "editable": false,
    "id": "d8a9f147"
   },
   "source": [
    "**Задание 8. Выведите перечень уникальных значений столбца `children`.**"
   ]
  },
  {
   "cell_type": "code",
   "execution_count": 9,
   "id": "07183ecf",
   "metadata": {
    "deletable": false,
    "id": "ef5056eb",
    "outputId": "6975b15c-7f95-4697-d16d-a0c79b657b03"
   },
   "outputs": [
    {
     "data": {
      "text/plain": [
       "array([ 1,  0,  3,  2, -1,  4, 20,  5])"
      ]
     },
     "execution_count": 9,
     "metadata": {},
     "output_type": "execute_result"
    }
   ],
   "source": [
    "data['children'].unique()"
   ]
  },
  {
   "cell_type": "markdown",
   "id": "79a36aac",
   "metadata": {
    "deletable": false,
    "editable": false,
    "id": "40b9ebf2"
   },
   "source": [
    "**Задание 9. В столбце `children` есть два аномальных значения. Удалите строки, в которых встречаются такие аномальные значения из датафрейма `data`.**"
   ]
  },
  {
   "cell_type": "code",
   "execution_count": 10,
   "id": "885563d4",
   "metadata": {
    "deletable": false,
    "id": "3ff9801d"
   },
   "outputs": [],
   "source": [
    "data = data[(data['children'] != -1) & (data['children'] != 20)]"
   ]
  },
  {
   "cell_type": "markdown",
   "id": "f532a381",
   "metadata": {
    "deletable": false,
    "editable": false,
    "id": "bbc4d0ce"
   },
   "source": [
    "**Задание 10. Ещё раз выведите перечень уникальных значений столбца `children`, чтобы убедиться, что артефакты удалены.**"
   ]
  },
  {
   "cell_type": "code",
   "execution_count": 11,
   "id": "d94f6559",
   "metadata": {
    "deletable": false,
    "id": "ad4fa8b7",
    "outputId": "b2097101-d49d-44d9-901b-32a65c9463d1"
   },
   "outputs": [
    {
     "data": {
      "text/plain": [
       "array([1, 0, 3, 2, 4, 5])"
      ]
     },
     "execution_count": 11,
     "metadata": {},
     "output_type": "execute_result"
    }
   ],
   "source": [
    "data['children'].unique()"
   ]
  },
  {
   "cell_type": "markdown",
   "id": "067da843",
   "metadata": {
    "deletable": false,
    "editable": false,
    "id": "75440b63"
   },
   "source": [
    "### Удаление пропусков (продолжение)"
   ]
  },
  {
   "cell_type": "markdown",
   "id": "584b0495",
   "metadata": {
    "deletable": false,
    "editable": false,
    "id": "f4ea573f"
   },
   "source": [
    "**Задание 11. Заполните пропуски в столбце `days_employed` медианными значениями по каждого типа занятости `income_type`.**"
   ]
  },
  {
   "cell_type": "code",
   "execution_count": 12,
   "id": "c2758895",
   "metadata": {
    "deletable": false,
    "id": "af6b1a7e"
   },
   "outputs": [],
   "source": [
    "for t in data['income_type'].unique():\n",
    "    data.loc[(data['income_type'] == t) & (data['days_employed'].isna()), 'days_employed'] = \\\n",
    "    data.loc[(data['income_type'] == t), 'days_employed'].median()"
   ]
  },
  {
   "cell_type": "markdown",
   "id": "c06e5843",
   "metadata": {
    "deletable": false,
    "editable": false,
    "id": "2753f40d"
   },
   "source": [
    "**Задание 12. Убедитесь, что все пропуски заполнены. Проверьте себя и ещё раз выведите количество пропущенных значений для каждого столбца с помощью двух методов.**"
   ]
  },
  {
   "cell_type": "code",
   "execution_count": 13,
   "id": "e9f1c932",
   "metadata": {
    "deletable": false,
    "id": "55f78bc2",
    "outputId": "8da1e4e1-358e-4e87-98c9-f261bce0a7b2"
   },
   "outputs": [
    {
     "data": {
      "text/plain": [
       "children            0\n",
       "days_employed       0\n",
       "dob_years           0\n",
       "education           0\n",
       "education_id        0\n",
       "family_status       0\n",
       "family_status_id    0\n",
       "gender              0\n",
       "income_type         0\n",
       "debt                0\n",
       "total_income        0\n",
       "purpose             0\n",
       "dtype: int64"
      ]
     },
     "execution_count": 13,
     "metadata": {},
     "output_type": "execute_result"
    }
   ],
   "source": [
    "data.isna().sum()"
   ]
  },
  {
   "cell_type": "markdown",
   "id": "b46b9fd1",
   "metadata": {
    "deletable": false,
    "editable": false,
    "id": "ddc81e43"
   },
   "source": [
    "### Изменение типов данных"
   ]
  },
  {
   "cell_type": "markdown",
   "id": "1c2e9c26",
   "metadata": {
    "deletable": false,
    "editable": false,
    "id": "42d19d24"
   },
   "source": [
    "**Задание 13. Замените вещественный тип данных в столбце `total_income` на целочисленный с помощью метода `astype()`.**"
   ]
  },
  {
   "cell_type": "code",
   "execution_count": 14,
   "id": "b812dcc2",
   "metadata": {
    "deletable": false,
    "id": "920b65ad"
   },
   "outputs": [],
   "source": [
    "data['total_income'] = data['total_income'].astype(int)"
   ]
  },
  {
   "cell_type": "markdown",
   "id": "3f157380",
   "metadata": {
    "deletable": false,
    "editable": false,
    "id": "80c420ba"
   },
   "source": [
    "### Обработка дубликатов"
   ]
  },
  {
   "cell_type": "markdown",
   "id": "73a3da1d",
   "metadata": {
    "deletable": false,
    "editable": false
   },
   "source": [
    "**Задание 14. Обработайте неявные дубликаты в столбце `education`. В этом столбце есть одни и те же значения, но записанные по-разному: с использованием заглавных и строчных букв. Приведите их к нижнему регистру. Проверьте остальные столбцы.**"
   ]
  },
  {
   "cell_type": "code",
   "execution_count": 15,
   "id": "3fb4c6e5",
   "metadata": {
    "deletable": false
   },
   "outputs": [],
   "source": [
    "data['education'] = data['education'].str.lower()"
   ]
  },
  {
   "cell_type": "markdown",
   "id": "4c9c9ebd",
   "metadata": {
    "deletable": false,
    "editable": false,
    "id": "dc587695"
   },
   "source": [
    "**Задание 15. Выведите на экран количество строк-дубликатов в данных. Если такие строки присутствуют, удалите их.**"
   ]
  },
  {
   "cell_type": "code",
   "execution_count": 16,
   "id": "04fc2d69",
   "metadata": {
    "deletable": false,
    "id": "3ee445e4",
    "outputId": "9684deba-1934-42d1-99e1-cda61740f822"
   },
   "outputs": [
    {
     "data": {
      "text/plain": [
       "71"
      ]
     },
     "execution_count": 16,
     "metadata": {},
     "output_type": "execute_result"
    }
   ],
   "source": [
    "data.duplicated().sum()"
   ]
  },
  {
   "cell_type": "code",
   "execution_count": 17,
   "id": "245c7d3f",
   "metadata": {
    "deletable": false,
    "id": "8575fe05"
   },
   "outputs": [],
   "source": [
    "data = data.drop_duplicates()"
   ]
  },
  {
   "cell_type": "markdown",
   "id": "0738fbdf",
   "metadata": {
    "deletable": false,
    "editable": false,
    "id": "9904cf55"
   },
   "source": [
    "### Категоризация данных"
   ]
  },
  {
   "cell_type": "markdown",
   "id": "574dbeaf",
   "metadata": {
    "deletable": false,
    "editable": false,
    "id": "72fcc8a2"
   },
   "source": [
    "**Задание 16. На основании диапазонов, указанных ниже, создайте в датафрейме `data` столбец `total_income_category` с категориями:**\n",
    "\n",
    "- 0–30000 — `'E'`;\n",
    "- 30001–50000 — `'D'`;\n",
    "- 50001–200000 — `'C'`;\n",
    "- 200001–1000000 — `'B'`;\n",
    "- 1000001 и выше — `'A'`.\n",
    "\n",
    "\n",
    "**Например, кредитополучателю с доходом 25000 нужно назначить категорию `'E'`, а клиенту, получающему 235000, — `'B'`. Используйте собственную функцию с именем `categorize_income()` и метод `apply()`.**"
   ]
  },
  {
   "cell_type": "code",
   "execution_count": 18,
   "id": "36aebae5",
   "metadata": {
    "deletable": false,
    "id": "e1771346"
   },
   "outputs": [],
   "source": [
    "def categorize_income(income):\n",
    "    try:\n",
    "        if 0 <= income <= 30000:\n",
    "            return 'E'\n",
    "        elif 30001 <= income <= 50000:\n",
    "            return 'D'\n",
    "        elif 50001 <= income <= 200000:\n",
    "            return 'C'\n",
    "        elif 200001 <= income <= 1000000:\n",
    "            return 'B'\n",
    "        elif income >= 1000001:\n",
    "            return 'A'\n",
    "    except:\n",
    "        pass"
   ]
  },
  {
   "cell_type": "code",
   "execution_count": 19,
   "id": "dd4b7eb1",
   "metadata": {
    "deletable": false,
    "id": "d5f3586d"
   },
   "outputs": [],
   "source": [
    "data['total_income_category'] = data['total_income'].apply(categorize_income)"
   ]
  },
  {
   "cell_type": "markdown",
   "id": "b3e0c7b7",
   "metadata": {
    "deletable": false,
    "editable": false,
    "id": "dde49b5c"
   },
   "source": [
    "**Задание 17. Выведите на экран перечень уникальных целей взятия кредита из столбца `purpose`.**"
   ]
  },
  {
   "cell_type": "code",
   "execution_count": 20,
   "id": "552d0ae0",
   "metadata": {
    "deletable": false,
    "id": "f67ce9b3",
    "outputId": "673c12d9-7d7e-4ae0-9812-c622c89dd244"
   },
   "outputs": [
    {
     "data": {
      "text/plain": [
       "array(['покупка жилья', 'приобретение автомобиля',\n",
       "       'дополнительное образование', 'сыграть свадьбу',\n",
       "       'операции с жильем', 'образование', 'на проведение свадьбы',\n",
       "       'покупка жилья для семьи', 'покупка недвижимости',\n",
       "       'покупка коммерческой недвижимости', 'покупка жилой недвижимости',\n",
       "       'строительство собственной недвижимости', 'недвижимость',\n",
       "       'строительство недвижимости', 'на покупку подержанного автомобиля',\n",
       "       'на покупку своего автомобиля',\n",
       "       'операции с коммерческой недвижимостью',\n",
       "       'строительство жилой недвижимости', 'жилье',\n",
       "       'операции со своей недвижимостью', 'автомобили',\n",
       "       'заняться образованием', 'сделка с подержанным автомобилем',\n",
       "       'получение образования', 'автомобиль', 'свадьба',\n",
       "       'получение дополнительного образования', 'покупка своего жилья',\n",
       "       'операции с недвижимостью', 'получение высшего образования',\n",
       "       'свой автомобиль', 'сделка с автомобилем',\n",
       "       'профильное образование', 'высшее образование',\n",
       "       'покупка жилья для сдачи', 'на покупку автомобиля', 'ремонт жилью',\n",
       "       'заняться высшим образованием'], dtype=object)"
      ]
     },
     "execution_count": 20,
     "metadata": {},
     "output_type": "execute_result"
    }
   ],
   "source": [
    "data['purpose'].unique()"
   ]
  },
  {
   "cell_type": "markdown",
   "id": "258c8d2a",
   "metadata": {
    "deletable": false,
    "editable": false,
    "id": "85d0aef0"
   },
   "source": [
    "**Задание 18. Создайте функцию, которая на основании данных из столбца `purpose` сформирует новый столбец `purpose_category`, в который войдут следующие категории:**\n",
    "\n",
    "- `'операции с автомобилем'`,\n",
    "- `'операции с недвижимостью'`,\n",
    "- `'проведение свадьбы'`,\n",
    "- `'получение образования'`.\n",
    "\n",
    "**Например, если в столбце `purpose` находится подстрока `'на покупку автомобиля'`, то в столбце `purpose_category` должна появиться строка `'операции с автомобилем'`.**\n",
    "\n",
    "**Используйте собственную функцию с именем `categorize_purpose()` и метод `apply()`. Изучите данные в столбце `purpose` и определите, какие подстроки помогут вам правильно определить категорию.**"
   ]
  },
  {
   "cell_type": "code",
   "execution_count": 21,
   "id": "08d913d2",
   "metadata": {
    "deletable": false,
    "id": "e149fab4"
   },
   "outputs": [],
   "source": [
    "def categorize_purpose(row):\n",
    "    try:\n",
    "        if 'автом' in row:\n",
    "            return 'операции с автомобилем'\n",
    "        elif 'жил' in row or 'недвиж' in row:\n",
    "            return 'операции с недвижимостью'\n",
    "        elif 'свад' in row:\n",
    "            return 'проведение свадьбы'\n",
    "        elif 'образов' in row:\n",
    "            return 'получение образования'\n",
    "    except:\n",
    "        return 'нет категории'"
   ]
  },
  {
   "cell_type": "code",
   "execution_count": 22,
   "id": "71a616e7",
   "metadata": {
    "deletable": false,
    "id": "bf36e69b"
   },
   "outputs": [],
   "source": [
    "data['purpose_category'] = data['purpose'].apply(categorize_purpose)"
   ]
  },
  {
   "cell_type": "markdown",
   "id": "2cdbfab8",
   "metadata": {
    "deletable": false,
    "editable": false,
    "id": "09b242bf"
   },
   "source": [
    "### Шаг 3. Исследуйте данные и ответьте на вопросы"
   ]
  },
  {
   "cell_type": "markdown",
   "id": "e7e15f31",
   "metadata": {
    "deletable": false,
    "editable": false,
    "id": "c5d66278"
   },
   "source": [
    "#### 3.1 Есть ли зависимость между количеством детей и возвратом кредита в срок?"
   ]
  },
  {
   "cell_type": "code",
   "execution_count": 23,
   "id": "b0d60b6a",
   "metadata": {
    "deletable": false,
    "id": "2cacfc4a",
    "scrolled": false
   },
   "outputs": [
    {
     "data": {
      "text/html": [
       "<div>\n",
       "<style scoped>\n",
       "    .dataframe tbody tr th:only-of-type {\n",
       "        vertical-align: middle;\n",
       "    }\n",
       "\n",
       "    .dataframe tbody tr th {\n",
       "        vertical-align: top;\n",
       "    }\n",
       "\n",
       "    .dataframe thead th {\n",
       "        text-align: right;\n",
       "    }\n",
       "</style>\n",
       "<table border=\"1\" class=\"dataframe\">\n",
       "  <thead>\n",
       "    <tr style=\"text-align: right;\">\n",
       "      <th></th>\n",
       "      <th>Общее число кредитов</th>\n",
       "      <th>Просроченных кредитов</th>\n",
       "      <th>% просроченных кредитов</th>\n",
       "      <th>% от общего числа кредитов</th>\n",
       "    </tr>\n",
       "    <tr>\n",
       "      <th>children</th>\n",
       "      <th></th>\n",
       "      <th></th>\n",
       "      <th></th>\n",
       "      <th></th>\n",
       "    </tr>\n",
       "  </thead>\n",
       "  <tbody>\n",
       "    <tr>\n",
       "      <th>0</th>\n",
       "      <td>14091.0</td>\n",
       "      <td>1063.0</td>\n",
       "      <td>7.54</td>\n",
       "      <td>66.06</td>\n",
       "    </tr>\n",
       "    <tr>\n",
       "      <th>1</th>\n",
       "      <td>4808.0</td>\n",
       "      <td>444.0</td>\n",
       "      <td>9.23</td>\n",
       "      <td>22.54</td>\n",
       "    </tr>\n",
       "    <tr>\n",
       "      <th>2</th>\n",
       "      <td>2052.0</td>\n",
       "      <td>194.0</td>\n",
       "      <td>9.45</td>\n",
       "      <td>9.62</td>\n",
       "    </tr>\n",
       "    <tr>\n",
       "      <th>3</th>\n",
       "      <td>330.0</td>\n",
       "      <td>27.0</td>\n",
       "      <td>8.18</td>\n",
       "      <td>1.55</td>\n",
       "    </tr>\n",
       "    <tr>\n",
       "      <th>4</th>\n",
       "      <td>41.0</td>\n",
       "      <td>4.0</td>\n",
       "      <td>9.76</td>\n",
       "      <td>0.19</td>\n",
       "    </tr>\n",
       "    <tr>\n",
       "      <th>5</th>\n",
       "      <td>9.0</td>\n",
       "      <td>0.0</td>\n",
       "      <td>0.00</td>\n",
       "      <td>0.04</td>\n",
       "    </tr>\n",
       "    <tr>\n",
       "      <th>Итог:</th>\n",
       "      <td>21331.0</td>\n",
       "      <td>1732.0</td>\n",
       "      <td>44.16</td>\n",
       "      <td>100.00</td>\n",
       "    </tr>\n",
       "  </tbody>\n",
       "</table>\n",
       "</div>"
      ],
      "text/plain": [
       "          Общее число кредитов  Просроченных кредитов  \\\n",
       "children                                                \n",
       "0                      14091.0                 1063.0   \n",
       "1                       4808.0                  444.0   \n",
       "2                       2052.0                  194.0   \n",
       "3                        330.0                   27.0   \n",
       "4                         41.0                    4.0   \n",
       "5                          9.0                    0.0   \n",
       "Итог:                  21331.0                 1732.0   \n",
       "\n",
       "           % просроченных кредитов  % от общего числа кредитов  \n",
       "children                                                        \n",
       "0                             7.54                       66.06  \n",
       "1                             9.23                       22.54  \n",
       "2                             9.45                        9.62  \n",
       "3                             8.18                        1.55  \n",
       "4                             9.76                        0.19  \n",
       "5                             0.00                        0.04  \n",
       "Итог:                        44.16                      100.00  "
      ]
     },
     "metadata": {},
     "output_type": "display_data"
    },
    {
     "data": {
      "text/plain": [
       "<seaborn.axisgrid.FacetGrid at 0x7f963b309340>"
      ]
     },
     "execution_count": 23,
     "metadata": {},
     "output_type": "execute_result"
    },
    {
     "data": {
      "image/png": "[encoded data removed]",
      "text/plain": [
       "<Figure size 402.375x360 with 1 Axes>"
      ]
     },
     "metadata": {
      "needs_background": "light"
     },
     "output_type": "display_data"
    }
   ],
   "source": [
    "import numpy as np\n",
    "table = pd.pivot_table(data,                               # согласен сводной таблицей было быстрее и нагляднее \n",
    "                       index=[\"children\"],\n",
    "                       values=[\"debt\"],\n",
    "                       aggfunc={\"debt\": [np.sum,\"count\"]}, # mean() не использовал т.к. выдаст отношение, а нагляднее процент.\n",
    "                       fill_value=0,                                            \n",
    "                      )\n",
    "table.columns = [\"A\",\"B\"] # временно для удобства\n",
    "table['% of debt'] = round(table.B/table.A* 100, 2)#.astype(str) + '%' при необходимости вывести текстом знак %, но тогда итог не посчитается\n",
    "table['% of debt total'] = round(table.A/len(data)* 100, 2)\n",
    "table.loc['Итог:', :] = table.sum().values\n",
    "\n",
    "table.columns = [\"Общее число кредитов\",\"Просроченных кредитов\",\" % просроченных кредитов\",\"% от общего числа кредитов\"]\n",
    "display(table)\n",
    "\n",
    "sns.catplot(data=data, x=\"children\", kind = \"count\", hue=\"debt\")\n"
   ]
  },
  {
   "cell_type": "markdown",
   "id": "e6d62519",
   "metadata": {
    "deletable": false,
    "id": "3a6b99ec"
   },
   "source": [
    "**Вывод:**  *На первый взгляд* существует линейная зависимость между количеством детей и возвратом кредита в срок,\n",
    "как видно из графиков и расчетов в абсолютных значениях погасивших кредит в срок без наличия детей составляет **62,5%** от всех погасивших в срок, а заемщики с более 3 детьми практически всегда не оплачивают в срок кредит.\n",
    "\n",
    "    Хотелось бы отметить, что семьи с большим кол-вом детей более взвешенно берут кредиты, что сказалось на кол-ве выданных кредитных портфелей, их суммарное кол-во меньше выборки по группе без детей.\n",
    "    \n",
    "    Исходя из этих данных более детально рассмотрим эти выборки. Выборку по кредиторам с 5 детьми придется исключить - слишком мала, чтобы принимать на текущий момент её во внимание.(9 позиций)\n",
    "    \n",
    "    Просчитав отношения закрытых вовремя кредитов по отношению к общему числу кредитных портфелей внутри групп, обнаружили, что по факту кредиторы с детьми чаще закрывают кредиты без просрочек, практически на 1,5 процента.   \n",
    "    \n",
    "\n"
   ]
  },
  {
   "cell_type": "markdown",
   "id": "1c74b3e3",
   "metadata": {
    "deletable": false,
    "editable": false,
    "id": "97be82ca"
   },
   "source": [
    "#### 3.2 Есть ли зависимость между семейным положением и возвратом кредита в срок?"
   ]
  },
  {
   "cell_type": "code",
   "execution_count": 25,
   "id": "2786ee6b",
   "metadata": {
    "deletable": false,
    "id": "dc3f7ee8"
   },
   "outputs": [
    {
     "data": {
      "text/html": [
       "<div>\n",
       "<style scoped>\n",
       "    .dataframe tbody tr th:only-of-type {\n",
       "        vertical-align: middle;\n",
       "    }\n",
       "\n",
       "    .dataframe tbody tr th {\n",
       "        vertical-align: top;\n",
       "    }\n",
       "\n",
       "    .dataframe thead th {\n",
       "        text-align: right;\n",
       "    }\n",
       "</style>\n",
       "<table border=\"1\" class=\"dataframe\">\n",
       "  <thead>\n",
       "    <tr style=\"text-align: right;\">\n",
       "      <th></th>\n",
       "      <th>Не женат / не замужем</th>\n",
       "      <th>в разводе</th>\n",
       "      <th>вдовец / вдова</th>\n",
       "      <th>гражданский брак</th>\n",
       "      <th>женат / замужем</th>\n",
       "    </tr>\n",
       "  </thead>\n",
       "  <tbody>\n",
       "    <tr>\n",
       "      <th>кол-во кредитов</th>\n",
       "      <td>2796.00</td>\n",
       "      <td>1189.00</td>\n",
       "      <td>951.00</td>\n",
       "      <td>4134.00</td>\n",
       "      <td>12261.00</td>\n",
       "    </tr>\n",
       "    <tr>\n",
       "      <th>кредиты погашенные</th>\n",
       "      <td>273.00</td>\n",
       "      <td>84.00</td>\n",
       "      <td>63.00</td>\n",
       "      <td>385.00</td>\n",
       "      <td>927.00</td>\n",
       "    </tr>\n",
       "    <tr>\n",
       "      <th>% погашенных кредитов</th>\n",
       "      <td>9.76</td>\n",
       "      <td>7.06</td>\n",
       "      <td>6.62</td>\n",
       "      <td>9.31</td>\n",
       "      <td>7.56</td>\n",
       "    </tr>\n",
       "  </tbody>\n",
       "</table>\n",
       "</div>"
      ],
      "text/plain": [
       "                       Не женат / не замужем  в разводе  вдовец / вдова  \\\n",
       "кол-во кредитов                      2796.00    1189.00          951.00   \n",
       "кредиты погашенные                    273.00      84.00           63.00   \n",
       "% погашенных кредитов                   9.76       7.06            6.62   \n",
       "\n",
       "                       гражданский брак  женат / замужем  \n",
       "кол-во кредитов                 4134.00         12261.00  \n",
       "кредиты погашенные               385.00           927.00  \n",
       "% погашенных кредитов              9.31             7.56  "
      ]
     },
     "metadata": {},
     "output_type": "display_data"
    }
   ],
   "source": [
    "                                   # получим общее кол-во кредитов по группам\n",
    "x = data[\"family_status\"].value_counts().sort_index()\n",
    "\n",
    "y = data.groupby('family_status')['debt'].sum().sort_index()\n",
    "                                   # получим число закрытых в срок кредитов по тем же группам\n",
    "\n",
    "z = []\n",
    "                                   # посчитаем процент кол-ва оплаченных вовремя кредитов\n",
    "for item in range(len(data[\"family_status\"].value_counts())):     \n",
    "    z.append(round(y[item]/x[item]*100,2))\n",
    "    \n",
    "                                   # для демонстрации сделаем отдельный датафрейм и выведем его табличкой через ком-ду Display()\n",
    "z = pd.Series(z, index=[\"Не женат / не замужем\",\"в разводе\",\"вдовец / вдова\",\"гражданский брак\",\"женат / замужем\"])                \n",
    "df = pd.DataFrame([x,y,z] ,columns=x.index.tolist(), index=[\"кол-во кредитов\",\"кредиты погашенные\",\"% погашенных кредитов\"] )\n",
    "display(df)"
   ]
  },
  {
   "cell_type": "markdown",
   "id": "5a0a16c7",
   "metadata": {
    "deletable": false,
    "id": "1cef7837"
   },
   "source": [
    "**Вывод:**  Зависимость между семейным положением и возвратом кредита в срок существует, лучше всего возвращают кредиты лица в статусе \"Не женат/не замужем\", хуже всех 2 категории статусов -\"В разводе\" и \"вдовец/вдова\"."
   ]
  },
  {
   "cell_type": "markdown",
   "id": "db3ba421",
   "metadata": {
    "deletable": false,
    "editable": false,
    "id": "1e8b2fca"
   },
   "source": [
    "#### 3.3 Есть ли зависимость между уровнем дохода и возвратом кредита в срок?"
   ]
  },
  {
   "cell_type": "code",
   "execution_count": 26,
   "id": "50cf1638",
   "metadata": {
    "deletable": false,
    "id": "cd7e3720"
   },
   "outputs": [
    {
     "data": {
      "text/html": [
       "<div>\n",
       "<style scoped>\n",
       "    .dataframe tbody tr th:only-of-type {\n",
       "        vertical-align: middle;\n",
       "    }\n",
       "\n",
       "    .dataframe tbody tr th {\n",
       "        vertical-align: top;\n",
       "    }\n",
       "\n",
       "    .dataframe thead th {\n",
       "        text-align: right;\n",
       "    }\n",
       "</style>\n",
       "<table border=\"1\" class=\"dataframe\">\n",
       "  <thead>\n",
       "    <tr style=\"text-align: right;\">\n",
       "      <th></th>\n",
       "      <th>Общее число кредитов</th>\n",
       "      <th>Просроченных кредитов</th>\n",
       "      <th>% просроченных кредитов</th>\n",
       "      <th>% от общего числа кредитов</th>\n",
       "    </tr>\n",
       "    <tr>\n",
       "      <th>total_income_category</th>\n",
       "      <th></th>\n",
       "      <th></th>\n",
       "      <th></th>\n",
       "      <th></th>\n",
       "    </tr>\n",
       "  </thead>\n",
       "  <tbody>\n",
       "    <tr>\n",
       "      <th>A</th>\n",
       "      <td>25.0</td>\n",
       "      <td>2.0</td>\n",
       "      <td>8.00</td>\n",
       "      <td>0.12</td>\n",
       "    </tr>\n",
       "    <tr>\n",
       "      <th>B</th>\n",
       "      <td>5014.0</td>\n",
       "      <td>354.0</td>\n",
       "      <td>7.06</td>\n",
       "      <td>23.51</td>\n",
       "    </tr>\n",
       "    <tr>\n",
       "      <th>C</th>\n",
       "      <td>15921.0</td>\n",
       "      <td>1353.0</td>\n",
       "      <td>8.50</td>\n",
       "      <td>74.64</td>\n",
       "    </tr>\n",
       "    <tr>\n",
       "      <th>D</th>\n",
       "      <td>349.0</td>\n",
       "      <td>21.0</td>\n",
       "      <td>6.02</td>\n",
       "      <td>1.64</td>\n",
       "    </tr>\n",
       "    <tr>\n",
       "      <th>E</th>\n",
       "      <td>22.0</td>\n",
       "      <td>2.0</td>\n",
       "      <td>9.09</td>\n",
       "      <td>0.10</td>\n",
       "    </tr>\n",
       "    <tr>\n",
       "      <th>Итог:</th>\n",
       "      <td>21331.0</td>\n",
       "      <td>1732.0</td>\n",
       "      <td>38.67</td>\n",
       "      <td>100.01</td>\n",
       "    </tr>\n",
       "  </tbody>\n",
       "</table>\n",
       "</div>"
      ],
      "text/plain": [
       "                       Общее число кредитов  Просроченных кредитов  \\\n",
       "total_income_category                                                \n",
       "A                                      25.0                    2.0   \n",
       "B                                    5014.0                  354.0   \n",
       "C                                   15921.0                 1353.0   \n",
       "D                                     349.0                   21.0   \n",
       "E                                      22.0                    2.0   \n",
       "Итог:                               21331.0                 1732.0   \n",
       "\n",
       "                        % просроченных кредитов  % от общего числа кредитов  \n",
       "total_income_category                                                        \n",
       "A                                          8.00                        0.12  \n",
       "B                                          7.06                       23.51  \n",
       "C                                          8.50                       74.64  \n",
       "D                                          6.02                        1.64  \n",
       "E                                          9.09                        0.10  \n",
       "Итог:                                     38.67                      100.01  "
      ]
     },
     "metadata": {},
     "output_type": "display_data"
    }
   ],
   "source": [
    "# У нас есть категоризация по доходам\n",
    "#    0–30000 — 'E';\n",
    "#    30001–50000 — 'D';\n",
    "#    50001–200000 — 'C';\n",
    "#    200001–1000000 — 'B';\n",
    "#    1000001 и выше — 'A'.\n",
    "# Построим график зависимостей\n",
    "#sns.catplot(data=sort, x=\"total_income_category\", kind = \"count\", hue=\"debt\")\n",
    "\n",
    "# Сделаем сводную таблицу\n",
    "table_gruppa = pd.pivot_table(data,                               \n",
    "                       index=[\"total_income_category\"],\n",
    "                       values=[\"debt\"],\n",
    "                       aggfunc={\"debt\": [\"sum\",\"count\"]}, \n",
    "                       fill_value=0,                                            \n",
    "                      )\n",
    "table_gruppa.columns = [\"A\",\"B\"] # временно для удобства\n",
    "table_gruppa['% of debt'] = round(table_gruppa.B/table_gruppa.A* 100, 2)#.astype(str) + '%' при необходимости вывести текстом знак %, но тогда итог не посчитается\n",
    "table_gruppa['% of debt total'] = round(table_gruppa.A/len(data)* 100, 2)\n",
    "table_gruppa.loc['Итог:', :] = table_gruppa.sum().values\n",
    "\n",
    "table_gruppa.columns = [\"Общее число кредитов\",\"Просроченных кредитов\",\" % просроченных кредитов\",\"% от общего числа кредитов\"]\n",
    "display(table_gruppa)"
   ]
  },
  {
   "cell_type": "markdown",
   "id": "85a608aa",
   "metadata": {
    "deletable": false,
    "id": "e8593def"
   },
   "source": [
    "**Вывод:** Выборки по категориям А и Е придется не учитывать, так как они слишком малы. Самый массовый сегмент находится в диапазоне от 50 до 200 тыс, при этом процент просроченных кредитов составляет 8,5% Далее с 7,0% идет сегмент B в диапазоне доходов от 200тыс до 1млн, самая малочисленная выборка с 6% в диапазоне 30-50тыс.\n",
    "\n",
    "Зависимость между уровнем дохода и возвратом кредита в срок наблюдается и самые добросовестные заемщики - это заемщики с доходом в 30-50тыс."
   ]
  },
  {
   "cell_type": "markdown",
   "id": "14786878",
   "metadata": {
    "deletable": false,
    "editable": false,
    "id": "99ecbd1f"
   },
   "source": [
    "#### 3.4 Как разные цели кредита влияют на его возврат в срок?"
   ]
  },
  {
   "cell_type": "code",
   "execution_count": 27,
   "id": "75b374c8",
   "metadata": {
    "deletable": false,
    "id": "2b687290"
   },
   "outputs": [
    {
     "data": {
      "text/html": [
       "<div>\n",
       "<style scoped>\n",
       "    .dataframe tbody tr th:only-of-type {\n",
       "        vertical-align: middle;\n",
       "    }\n",
       "\n",
       "    .dataframe tbody tr th {\n",
       "        vertical-align: top;\n",
       "    }\n",
       "\n",
       "    .dataframe thead th {\n",
       "        text-align: right;\n",
       "    }\n",
       "</style>\n",
       "<table border=\"1\" class=\"dataframe\">\n",
       "  <thead>\n",
       "    <tr style=\"text-align: right;\">\n",
       "      <th></th>\n",
       "      <th>Общее число кредитов</th>\n",
       "      <th>Просроченных кредитов</th>\n",
       "      <th>% просроченных кредитов</th>\n",
       "      <th>% от общего числа кредитов</th>\n",
       "    </tr>\n",
       "    <tr>\n",
       "      <th>purpose_category</th>\n",
       "      <th></th>\n",
       "      <th></th>\n",
       "      <th></th>\n",
       "      <th></th>\n",
       "    </tr>\n",
       "  </thead>\n",
       "  <tbody>\n",
       "    <tr>\n",
       "      <th>операции с автомобилем</th>\n",
       "      <td>4279.0</td>\n",
       "      <td>400.0</td>\n",
       "      <td>9.35</td>\n",
       "      <td>20.06</td>\n",
       "    </tr>\n",
       "    <tr>\n",
       "      <th>операции с недвижимостью</th>\n",
       "      <td>10751.0</td>\n",
       "      <td>780.0</td>\n",
       "      <td>7.26</td>\n",
       "      <td>50.40</td>\n",
       "    </tr>\n",
       "    <tr>\n",
       "      <th>получение образования</th>\n",
       "      <td>3988.0</td>\n",
       "      <td>369.0</td>\n",
       "      <td>9.25</td>\n",
       "      <td>18.70</td>\n",
       "    </tr>\n",
       "    <tr>\n",
       "      <th>проведение свадьбы</th>\n",
       "      <td>2313.0</td>\n",
       "      <td>183.0</td>\n",
       "      <td>7.91</td>\n",
       "      <td>10.84</td>\n",
       "    </tr>\n",
       "    <tr>\n",
       "      <th>Итог:</th>\n",
       "      <td>21331.0</td>\n",
       "      <td>1732.0</td>\n",
       "      <td>33.77</td>\n",
       "      <td>100.00</td>\n",
       "    </tr>\n",
       "  </tbody>\n",
       "</table>\n",
       "</div>"
      ],
      "text/plain": [
       "                          Общее число кредитов  Просроченных кредитов  \\\n",
       "purpose_category                                                        \n",
       "операции с автомобилем                  4279.0                  400.0   \n",
       "операции с недвижимостью               10751.0                  780.0   \n",
       "получение образования                   3988.0                  369.0   \n",
       "проведение свадьбы                      2313.0                  183.0   \n",
       "Итог:                                  21331.0                 1732.0   \n",
       "\n",
       "                           % просроченных кредитов  % от общего числа кредитов  \n",
       "purpose_category                                                                \n",
       "операции с автомобилем                        9.35                       20.06  \n",
       "операции с недвижимостью                      7.26                       50.40  \n",
       "получение образования                         9.25                       18.70  \n",
       "проведение свадьбы                            7.91                       10.84  \n",
       "Итог:                                        33.77                      100.00  "
      ]
     },
     "metadata": {},
     "output_type": "display_data"
    },
    {
     "data": {
      "image/png": "[encoded data removed]",
      "text/plain": [
       "<Figure size 402.375x360 with 1 Axes>"
      ]
     },
     "metadata": {
      "needs_background": "light"
     },
     "output_type": "display_data"
    }
   ],
   "source": [
    "sns.catplot(data=data, y=\"purpose_category\", kind = \"count\", hue=\"debt\")\n",
    "table_categ = pd.pivot_table(data,                         \n",
    "                       index=[\"purpose_category\"],\n",
    "                       values=[\"debt\"],\n",
    "                       aggfunc={\"debt\": [np.sum,\"count\"]}, \n",
    "                       fill_value=0,                                            \n",
    "                      )\n",
    "table_categ.columns = [\"A\",\"B\"] # временно для удобства\n",
    "table_categ['% of debt'] = round(table_categ.B/table_categ.A* 100, 2)#.astype(str) + '%' при необходимости вывести текстом знак %, но тогда итог не посчитается\n",
    "table_categ['% of debt total'] = round(table_categ.A/len(data)* 100, 2)\n",
    "table_categ.loc['Итог:', :] = table_categ.sum().values\n",
    "\n",
    "table_categ.columns = [\"Общее число кредитов\",\"Просроченных кредитов\",\" % просроченных кредитов\",\"% от общего числа кредитов\"]\n",
    "display(table_categ)                   "
   ]
  },
  {
   "cell_type": "markdown",
   "id": "355124c4",
   "metadata": {},
   "source": [
    "<div class=\"alert alert-info\">\n",
    "<h4> Вывод: <a class=\"tocSkip\"></h4>    \n",
    "Категории по кол-ву кредитов располагаются в следующем порядке: наибольшее кол-во - недвижимость, затем автомобили, образование и свадьбы.\n",
    "    \n",
    "    - Недвижимость, на текущий момент рассматривается для большинства как единственная возможность приобретения жилья, отсюда и и большое кол-во кредитов в этой категории (50%), поскольку в большинстве случаях аренда сопоставима с платежом по кредиту отсюда минимальная просрочка кредитных портфелей, всего 7,26%\n",
    "    - Автомобили, второй по численности и Образование с небольшим отставанием занимает 3ье место (20% и 18,7% соответсвенно), с 9,3% просроченными кредитами, к ним скорее всего относятся более легко отсюда и более высокий процент.\n",
    "    - Кредиты на свадьбу, новое направление, но более низкий процент 7,91% объясняется тем, что большинство заемщиков, подаренными деньгами частично или полностью оплачивают кредит.\n",
    "</div>"
   ]
  },
  {
   "cell_type": "markdown",
   "id": "d81c83ed",
   "metadata": {
    "deletable": false,
    "editable": false,
    "id": "09c3ac4c"
   },
   "source": [
    "#### 3.5 Приведите возможные причины появления пропусков в исходных данных."
   ]
  },
  {
   "cell_type": "markdown",
   "id": "e38af179",
   "metadata": {
    "deletable": false,
    "id": "9da2ceda"
   },
   "source": [
    "*Ответ:* Пропуски в данных у нас в полях Трудовой Стаж и Доход, могли возникнуть в случаях :\n",
    " - официально не был трудоустроен\n",
    " - ИП, в налогах отчитывается по 0\n",
    " - чел фактор, не внесли при анкетировании\n",
    " - заемщик сознательно отказался указывать эти данные по личным соображениям"
   ]
  },
  {
   "cell_type": "markdown",
   "id": "033faae1",
   "metadata": {
    "deletable": false,
    "editable": false,
    "id": "7b0487d6"
   },
   "source": [
    "#### 3.6 Объясните, почему заполнить пропуски медианным значением — лучшее решение для количественных переменных."
   ]
  },
  {
   "cell_type": "markdown",
   "id": "ea974779",
   "metadata": {
    "deletable": false,
    "id": "7ecf2b8e"
   },
   "source": [
    "*Ответ:*  Как правило это даст более приблеженное значение к действительности, особенно если у нас достаточно большой разбор по значениям и скорее всего будут присутствовать выбросы, в таком случае среднее значение будет далеко от истины и его лучше не применять."
   ]
  },
  {
   "cell_type": "markdown",
   "id": "e7f520a7",
   "metadata": {
    "deletable": false,
    "editable": false,
    "id": "6db5255a"
   },
   "source": [
    "### Шаг 4: общий вывод."
   ]
  },
  {
   "cell_type": "code",
   "execution_count": 28,
   "id": "561c64db",
   "metadata": {},
   "outputs": [
    {
     "data": {
      "text/html": [
       "<div>\n",
       "<style scoped>\n",
       "    .dataframe tbody tr th:only-of-type {\n",
       "        vertical-align: middle;\n",
       "    }\n",
       "\n",
       "    .dataframe tbody tr th {\n",
       "        vertical-align: top;\n",
       "    }\n",
       "\n",
       "    .dataframe thead th {\n",
       "        text-align: right;\n",
       "    }\n",
       "</style>\n",
       "<table border=\"1\" class=\"dataframe\">\n",
       "  <thead>\n",
       "    <tr style=\"text-align: right;\">\n",
       "      <th></th>\n",
       "      <th></th>\n",
       "      <th>Общее число кредитов</th>\n",
       "      <th>Просроченных кредитов</th>\n",
       "      <th>% просроченных кредитов</th>\n",
       "    </tr>\n",
       "    <tr>\n",
       "      <th>family_status</th>\n",
       "      <th>children</th>\n",
       "      <th></th>\n",
       "      <th></th>\n",
       "      <th></th>\n",
       "    </tr>\n",
       "  </thead>\n",
       "  <tbody>\n",
       "    <tr>\n",
       "      <th>вдовец / вдова</th>\n",
       "      <th>0</th>\n",
       "      <td>847.0</td>\n",
       "      <td>53.0</td>\n",
       "      <td>6.26</td>\n",
       "    </tr>\n",
       "    <tr>\n",
       "      <th>в разводе</th>\n",
       "      <th>1</th>\n",
       "      <td>312.0</td>\n",
       "      <td>21.0</td>\n",
       "      <td>6.73</td>\n",
       "    </tr>\n",
       "    <tr>\n",
       "      <th rowspan=\"2\" valign=\"top\">женат / замужем</th>\n",
       "      <th>3</th>\n",
       "      <td>249.0</td>\n",
       "      <td>17.0</td>\n",
       "      <td>6.83</td>\n",
       "    </tr>\n",
       "    <tr>\n",
       "      <th>0</th>\n",
       "      <td>7468.0</td>\n",
       "      <td>516.0</td>\n",
       "      <td>6.91</td>\n",
       "    </tr>\n",
       "    <tr>\n",
       "      <th>в разводе</th>\n",
       "      <th>0</th>\n",
       "      <td>784.0</td>\n",
       "      <td>55.0</td>\n",
       "      <td>7.02</td>\n",
       "    </tr>\n",
       "    <tr>\n",
       "      <th>женат / замужем</th>\n",
       "      <th>1</th>\n",
       "      <td>2975.0</td>\n",
       "      <td>246.0</td>\n",
       "      <td>8.27</td>\n",
       "    </tr>\n",
       "    <tr>\n",
       "      <th>гражданский брак</th>\n",
       "      <th>0</th>\n",
       "      <td>2730.0</td>\n",
       "      <td>229.0</td>\n",
       "      <td>8.39</td>\n",
       "    </tr>\n",
       "    <tr>\n",
       "      <th>в разводе</th>\n",
       "      <th>2</th>\n",
       "      <td>81.0</td>\n",
       "      <td>7.0</td>\n",
       "      <td>8.64</td>\n",
       "    </tr>\n",
       "    <tr>\n",
       "      <th>гражданский брак</th>\n",
       "      <th>2</th>\n",
       "      <td>343.0</td>\n",
       "      <td>30.0</td>\n",
       "      <td>8.75</td>\n",
       "    </tr>\n",
       "    <tr>\n",
       "      <th>вдовец / вдова</th>\n",
       "      <th>1</th>\n",
       "      <td>77.0</td>\n",
       "      <td>7.0</td>\n",
       "      <td>9.09</td>\n",
       "    </tr>\n",
       "    <tr>\n",
       "      <th>Не женат / не замужем</th>\n",
       "      <th>0</th>\n",
       "      <td>2262.0</td>\n",
       "      <td>210.0</td>\n",
       "      <td>9.28</td>\n",
       "    </tr>\n",
       "    <tr>\n",
       "      <th rowspan=\"2\" valign=\"top\">женат / замужем</th>\n",
       "      <th>2</th>\n",
       "      <td>1533.0</td>\n",
       "      <td>145.0</td>\n",
       "      <td>9.46</td>\n",
       "    </tr>\n",
       "    <tr>\n",
       "      <th>4</th>\n",
       "      <td>29.0</td>\n",
       "      <td>3.0</td>\n",
       "      <td>10.34</td>\n",
       "    </tr>\n",
       "    <tr>\n",
       "      <th>Не женат / не замужем</th>\n",
       "      <th>1</th>\n",
       "      <td>449.0</td>\n",
       "      <td>52.0</td>\n",
       "      <td>11.58</td>\n",
       "    </tr>\n",
       "    <tr>\n",
       "      <th>гражданский брак</th>\n",
       "      <th>1</th>\n",
       "      <td>995.0</td>\n",
       "      <td>118.0</td>\n",
       "      <td>11.86</td>\n",
       "    </tr>\n",
       "    <tr>\n",
       "      <th>Не женат / не замужем</th>\n",
       "      <th>2</th>\n",
       "      <td>75.0</td>\n",
       "      <td>9.0</td>\n",
       "      <td>12.00</td>\n",
       "    </tr>\n",
       "    <tr>\n",
       "      <th>гражданский брак</th>\n",
       "      <th>3</th>\n",
       "      <td>56.0</td>\n",
       "      <td>8.0</td>\n",
       "      <td>14.29</td>\n",
       "    </tr>\n",
       "    <tr>\n",
       "      <th>вдовец / вдова</th>\n",
       "      <th>2</th>\n",
       "      <td>20.0</td>\n",
       "      <td>3.0</td>\n",
       "      <td>15.00</td>\n",
       "    </tr>\n",
       "    <tr>\n",
       "      <th>Итог:</th>\n",
       "      <th></th>\n",
       "      <td>21331.0</td>\n",
       "      <td>1732.0</td>\n",
       "      <td>242.29</td>\n",
       "    </tr>\n",
       "  </tbody>\n",
       "</table>\n",
       "</div>"
      ],
      "text/plain": [
       "                                Общее число кредитов  Просроченных кредитов  \\\n",
       "family_status         children                                                \n",
       "вдовец / вдова        0                        847.0                   53.0   \n",
       "в разводе             1                        312.0                   21.0   \n",
       "женат / замужем       3                        249.0                   17.0   \n",
       "                      0                       7468.0                  516.0   \n",
       "в разводе             0                        784.0                   55.0   \n",
       "женат / замужем       1                       2975.0                  246.0   \n",
       "гражданский брак      0                       2730.0                  229.0   \n",
       "в разводе             2                         81.0                    7.0   \n",
       "гражданский брак      2                        343.0                   30.0   \n",
       "вдовец / вдова        1                         77.0                    7.0   \n",
       "Не женат / не замужем 0                       2262.0                  210.0   \n",
       "женат / замужем       2                       1533.0                  145.0   \n",
       "                      4                         29.0                    3.0   \n",
       "Не женат / не замужем 1                        449.0                   52.0   \n",
       "гражданский брак      1                        995.0                  118.0   \n",
       "Не женат / не замужем 2                         75.0                    9.0   \n",
       "гражданский брак      3                         56.0                    8.0   \n",
       "вдовец / вдова        2                         20.0                    3.0   \n",
       "Итог:                                        21331.0                 1732.0   \n",
       "\n",
       "                                 % просроченных кредитов  \n",
       "family_status         children                            \n",
       "вдовец / вдова        0                             6.26  \n",
       "в разводе             1                             6.73  \n",
       "женат / замужем       3                             6.83  \n",
       "                      0                             6.91  \n",
       "в разводе             0                             7.02  \n",
       "женат / замужем       1                             8.27  \n",
       "гражданский брак      0                             8.39  \n",
       "в разводе             2                             8.64  \n",
       "гражданский брак      2                             8.75  \n",
       "вдовец / вдова        1                             9.09  \n",
       "Не женат / не замужем 0                             9.28  \n",
       "женат / замужем       2                             9.46  \n",
       "                      4                            10.34  \n",
       "Не женат / не замужем 1                            11.58  \n",
       "гражданский брак      1                            11.86  \n",
       "Не женат / не замужем 2                            12.00  \n",
       "гражданский брак      3                            14.29  \n",
       "вдовец / вдова        2                            15.00  \n",
       "Итог:                                             242.29  "
      ]
     },
     "metadata": {},
     "output_type": "display_data"
    },
    {
     "data": {
      "text/html": [
       "<div>\n",
       "<style scoped>\n",
       "    .dataframe tbody tr th:only-of-type {\n",
       "        vertical-align: middle;\n",
       "    }\n",
       "\n",
       "    .dataframe tbody tr th {\n",
       "        vertical-align: top;\n",
       "    }\n",
       "\n",
       "    .dataframe thead th {\n",
       "        text-align: right;\n",
       "    }\n",
       "</style>\n",
       "<table border=\"1\" class=\"dataframe\">\n",
       "  <thead>\n",
       "    <tr style=\"text-align: right;\">\n",
       "      <th></th>\n",
       "      <th></th>\n",
       "      <th>Общее число кредитов</th>\n",
       "      <th>Просроченных кредитов</th>\n",
       "      <th>% просроченных кредитов</th>\n",
       "    </tr>\n",
       "    <tr>\n",
       "      <th>family_status</th>\n",
       "      <th>children</th>\n",
       "      <th></th>\n",
       "      <th></th>\n",
       "      <th></th>\n",
       "    </tr>\n",
       "  </thead>\n",
       "  <tbody>\n",
       "    <tr>\n",
       "      <th>вдовец / вдова</th>\n",
       "      <th>0</th>\n",
       "      <td>847.0</td>\n",
       "      <td>53.0</td>\n",
       "      <td>6.26</td>\n",
       "    </tr>\n",
       "    <tr>\n",
       "      <th>в разводе</th>\n",
       "      <th>1</th>\n",
       "      <td>312.0</td>\n",
       "      <td>21.0</td>\n",
       "      <td>6.73</td>\n",
       "    </tr>\n",
       "    <tr>\n",
       "      <th rowspan=\"2\" valign=\"top\">женат / замужем</th>\n",
       "      <th>3</th>\n",
       "      <td>249.0</td>\n",
       "      <td>17.0</td>\n",
       "      <td>6.83</td>\n",
       "    </tr>\n",
       "    <tr>\n",
       "      <th>0</th>\n",
       "      <td>7468.0</td>\n",
       "      <td>516.0</td>\n",
       "      <td>6.91</td>\n",
       "    </tr>\n",
       "    <tr>\n",
       "      <th>в разводе</th>\n",
       "      <th>0</th>\n",
       "      <td>784.0</td>\n",
       "      <td>55.0</td>\n",
       "      <td>7.02</td>\n",
       "    </tr>\n",
       "  </tbody>\n",
       "</table>\n",
       "</div>"
      ],
      "text/plain": [
       "                          Общее число кредитов  Просроченных кредитов  \\\n",
       "family_status   children                                                \n",
       "вдовец / вдова  0                        847.0                   53.0   \n",
       "в разводе       1                        312.0                   21.0   \n",
       "женат / замужем 3                        249.0                   17.0   \n",
       "                0                       7468.0                  516.0   \n",
       "в разводе       0                        784.0                   55.0   \n",
       "\n",
       "                           % просроченных кредитов  \n",
       "family_status   children                            \n",
       "вдовец / вдова  0                             6.26  \n",
       "в разводе       1                             6.73  \n",
       "женат / замужем 3                             6.83  \n",
       "                0                             6.91  \n",
       "в разводе       0                             7.02  "
      ]
     },
     "metadata": {},
     "output_type": "display_data"
    },
    {
     "data": {
      "text/html": [
       "<div>\n",
       "<style scoped>\n",
       "    .dataframe tbody tr th:only-of-type {\n",
       "        vertical-align: middle;\n",
       "    }\n",
       "\n",
       "    .dataframe tbody tr th {\n",
       "        vertical-align: top;\n",
       "    }\n",
       "\n",
       "    .dataframe thead th {\n",
       "        text-align: right;\n",
       "    }\n",
       "</style>\n",
       "<table border=\"1\" class=\"dataframe\">\n",
       "  <thead>\n",
       "    <tr style=\"text-align: right;\">\n",
       "      <th></th>\n",
       "      <th></th>\n",
       "      <th>Общее число кредитов</th>\n",
       "      <th>Просроченных кредитов</th>\n",
       "      <th>% просроченных кредитов</th>\n",
       "    </tr>\n",
       "    <tr>\n",
       "      <th>family_status</th>\n",
       "      <th>children</th>\n",
       "      <th></th>\n",
       "      <th></th>\n",
       "      <th></th>\n",
       "    </tr>\n",
       "  </thead>\n",
       "  <tbody>\n",
       "    <tr>\n",
       "      <th>гражданский брак</th>\n",
       "      <th>1</th>\n",
       "      <td>995.0</td>\n",
       "      <td>118.0</td>\n",
       "      <td>11.86</td>\n",
       "    </tr>\n",
       "    <tr>\n",
       "      <th>Не женат / не замужем</th>\n",
       "      <th>2</th>\n",
       "      <td>75.0</td>\n",
       "      <td>9.0</td>\n",
       "      <td>12.00</td>\n",
       "    </tr>\n",
       "    <tr>\n",
       "      <th>гражданский брак</th>\n",
       "      <th>3</th>\n",
       "      <td>56.0</td>\n",
       "      <td>8.0</td>\n",
       "      <td>14.29</td>\n",
       "    </tr>\n",
       "    <tr>\n",
       "      <th>вдовец / вдова</th>\n",
       "      <th>2</th>\n",
       "      <td>20.0</td>\n",
       "      <td>3.0</td>\n",
       "      <td>15.00</td>\n",
       "    </tr>\n",
       "    <tr>\n",
       "      <th>Итог:</th>\n",
       "      <th></th>\n",
       "      <td>21331.0</td>\n",
       "      <td>1732.0</td>\n",
       "      <td>242.29</td>\n",
       "    </tr>\n",
       "  </tbody>\n",
       "</table>\n",
       "</div>"
      ],
      "text/plain": [
       "                                Общее число кредитов  Просроченных кредитов  \\\n",
       "family_status         children                                                \n",
       "гражданский брак      1                        995.0                  118.0   \n",
       "Не женат / не замужем 2                         75.0                    9.0   \n",
       "гражданский брак      3                         56.0                    8.0   \n",
       "вдовец / вдова        2                         20.0                    3.0   \n",
       "Итог:                                        21331.0                 1732.0   \n",
       "\n",
       "                                 % просроченных кредитов  \n",
       "family_status         children                            \n",
       "гражданский брак      1                            11.86  \n",
       "Не женат / не замужем 2                            12.00  \n",
       "гражданский брак      3                            14.29  \n",
       "вдовец / вдова        2                            15.00  \n",
       "Итог:                                             242.29  "
      ]
     },
     "metadata": {},
     "output_type": "display_data"
    }
   ],
   "source": [
    "table_2 = pd.pivot_table(data,                         \n",
    "                       index=[\"family_status\",\"children\"],\n",
    "                       values=[\"debt\"],\n",
    "                       aggfunc={\"debt\": [np.sum,\"count\"]}, \n",
    "                       fill_value=0,                                            \n",
    "                      )\n",
    "table_2.columns = [\"A\",\"B\"] # временно для удобства\n",
    "table_2[' % просроченных кредитов'] = round(table_2.B/table_2.A* 100, 2)#.astype(str) + '%' при необходимости вывести текстом знак %, но тогда итог не посчитается\n",
    "table_2.loc['Итог:', :] = table_2.sum().values\n",
    "table_2.columns = [\"Общее число кредитов\",\"Просроченных кредитов\",\" % просроченных кредитов\"]\n",
    "\n",
    "table_20 = table_2[table_2[\"Общее число кредитов\"] >=20]\n",
    "table_20 = table_20.sort_values(by = ' % просроченных кредитов')\n",
    "\n",
    "display(table_20) \n",
    "display(table_20.head()) \n",
    "display(table_20.tail())    \n",
    "\n",
    "    "
   ]
  },
  {
   "cell_type": "markdown",
   "id": "6b6a82ed",
   "metadata": {
    "raw_mimetype": "text/markdown"
   },
   "source": [
    "<div class=\"alert alert-info\">\n",
    "<h4> общий вывод: <a class=\"tocSkip\"></h4>  \n",
    "    Изначальный запрос банка - Нужно разобраться, влияет ли семейное положение и количество детей клиента на факт погашения кредита в срок.\n",
    "    Чтобы оценить способность заемщика вернуть кредит, обьеденим результаты в одну таблицу (из подгрупп исключим те в которых кол-во заемщиков менее 20 как наименее информативные, 0.2% от общего числа заемщиков ) и выведем топ 5 самых надежных заемщиков:\n",
    "    \n",
    "    - вдовец / вдова \tдетей=0 \t \t6.26%\n",
    "    - в разводе \t    детей=1 \t \t6.73%\n",
    "    - женат / замужем \tдетей=3 \t\t6.83%\n",
    "    -                   детей=0 \t \t6.91%\n",
    "    - в разводе \t    детей=0 \t\t7.02%\n",
    "    \n",
    "Как видно в основном в группу вошли заемщики без детей, а заемщики в статусе  \"женат / замужем\" и в \"в разводе \"заняли сразу 2 место, что удивительно в этой подгруппе с 1 и 2 детьми процент просроченных кредитов значительно выше - 8.27% и 9.46% соответственно.\n",
    "        \n",
    "       Выведем топ 5 самых не надежных заемщиков: \n",
    "    \n",
    "      - гражданский брак \t    детей=1 \t11.86\n",
    "      - Не женат / не замужем \tдетей=2 \t12.00\n",
    "      - гражданский брак \t    детей=3 \t14.29\n",
    "      - вдовец / вдова \t        детей=2 \t15.00    \n",
    "\n",
    "Как видно внизу списка бездетных заемщиков нет, а заемщики в статусе \"гражданский брак\" занаили сразу 2 позиции внизу списка.\n",
    "Исходя из общей картины мы видим что и семейное положение и кол-во детей влияет на платежеспособность клиента, в целом можно сказать что с ростом числа детей платежеспособность клиентов падает, самы наглядный пример это категория \"вдовец / вдова\" - без детей они самые надежные заемщики и воглавляют наш список с 6.26%, но они же и замыкают его при наличии 2х детей - с 15% просроченных кредитов, т.е. в 3раза. Нагляден и тот факт что в топе 3группы без детей а в низу списка бездетных нет.\n",
    "    \n",
    "    Итоговая таблица может послужить банку в качестве выставления коэфффициента для построения модели кредитного скоринга.\n",
    "    \n",
    "    \n",
    "\n",
    "</div>"
   ]
  }
 ],
 "metadata": {
  "ExecuteTimeLog": [
   {
    "duration": 42,
    "start_time": "2022-09-28T06:44:55.652Z"
   },
   {
    "duration": 540,
    "start_time": "2022-09-28T06:45:01.492Z"
   },
   {
    "duration": 20,
    "start_time": "2022-09-28T06:45:02.034Z"
   },
   {
    "duration": 105,
    "start_time": "2022-09-28T06:45:02.056Z"
   },
   {
    "duration": 26,
    "start_time": "2022-09-28T06:45:02.163Z"
   },
   {
    "duration": 54,
    "start_time": "2022-09-28T06:45:02.190Z"
   },
   {
    "duration": 4,
    "start_time": "2022-09-28T06:45:02.246Z"
   },
   {
    "duration": 16,
    "start_time": "2022-09-28T06:45:02.252Z"
   },
   {
    "duration": 39,
    "start_time": "2022-09-28T06:45:02.269Z"
   },
   {
    "duration": 35,
    "start_time": "2022-09-28T06:45:02.310Z"
   },
   {
    "duration": 14,
    "start_time": "2022-09-28T06:45:02.348Z"
   },
   {
    "duration": 59,
    "start_time": "2022-09-28T06:45:02.365Z"
   },
   {
    "duration": 14,
    "start_time": "2022-09-28T06:45:02.425Z"
   },
   {
    "duration": 24,
    "start_time": "2022-09-28T06:45:02.440Z"
   },
   {
    "duration": 28,
    "start_time": "2022-09-28T06:45:02.466Z"
   },
   {
    "duration": 25,
    "start_time": "2022-09-28T06:45:02.496Z"
   },
   {
    "duration": 31,
    "start_time": "2022-09-28T06:45:02.523Z"
   },
   {
    "duration": 24,
    "start_time": "2022-09-28T06:45:02.556Z"
   },
   {
    "duration": 30,
    "start_time": "2022-09-28T06:45:02.582Z"
   },
   {
    "duration": 23,
    "start_time": "2022-09-28T06:45:02.614Z"
   },
   {
    "duration": 25,
    "start_time": "2022-09-28T06:45:02.638Z"
   },
   {
    "duration": 32,
    "start_time": "2022-09-28T06:45:02.665Z"
   },
   {
    "duration": 35,
    "start_time": "2022-09-28T06:45:07.745Z"
   },
   {
    "duration": 15,
    "start_time": "2022-09-28T06:47:16.840Z"
   },
   {
    "duration": 15,
    "start_time": "2022-09-28T06:48:28.482Z"
   },
   {
    "duration": 6,
    "start_time": "2022-09-28T06:49:32.099Z"
   },
   {
    "duration": 4,
    "start_time": "2022-09-28T06:50:42.606Z"
   },
   {
    "duration": 21,
    "start_time": "2022-09-28T06:50:49.840Z"
   },
   {
    "duration": 25,
    "start_time": "2022-09-28T06:51:15.182Z"
   },
   {
    "duration": 8,
    "start_time": "2022-09-28T06:53:06.895Z"
   },
   {
    "duration": 8,
    "start_time": "2022-09-28T06:53:18.497Z"
   },
   {
    "duration": 13,
    "start_time": "2022-09-28T06:53:37.568Z"
   },
   {
    "duration": 10,
    "start_time": "2022-09-28T06:54:34.145Z"
   },
   {
    "duration": 8,
    "start_time": "2022-09-28T06:54:45.320Z"
   },
   {
    "duration": 16,
    "start_time": "2022-09-28T06:55:34.227Z"
   },
   {
    "duration": 19,
    "start_time": "2022-09-28T06:55:55.855Z"
   },
   {
    "duration": 5,
    "start_time": "2022-09-28T07:06:25.064Z"
   },
   {
    "duration": 8,
    "start_time": "2022-09-28T07:08:17.381Z"
   },
   {
    "duration": 6,
    "start_time": "2022-09-28T07:08:38.022Z"
   },
   {
    "duration": 7,
    "start_time": "2022-09-28T07:08:53.509Z"
   },
   {
    "duration": 10,
    "start_time": "2022-09-28T07:09:00.707Z"
   },
   {
    "duration": 7,
    "start_time": "2022-09-28T07:10:28.159Z"
   },
   {
    "duration": 8,
    "start_time": "2022-09-28T07:10:51.750Z"
   },
   {
    "duration": 7,
    "start_time": "2022-09-28T07:11:02.483Z"
   },
   {
    "duration": 68,
    "start_time": "2022-09-28T07:13:45.339Z"
   },
   {
    "duration": 7,
    "start_time": "2022-09-28T07:14:07.795Z"
   },
   {
    "duration": 77,
    "start_time": "2022-09-28T07:14:24.553Z"
   },
   {
    "duration": 7,
    "start_time": "2022-09-28T07:14:34.918Z"
   },
   {
    "duration": 74,
    "start_time": "2022-09-28T07:14:43.610Z"
   },
   {
    "duration": 8,
    "start_time": "2022-09-28T07:14:47.873Z"
   },
   {
    "duration": 9,
    "start_time": "2022-09-28T07:15:21.614Z"
   },
   {
    "duration": 10,
    "start_time": "2022-09-28T07:15:40.070Z"
   },
   {
    "duration": 8,
    "start_time": "2022-09-28T07:18:17.042Z"
   },
   {
    "duration": 279,
    "start_time": "2022-09-28T07:20:13.296Z"
   },
   {
    "duration": 126,
    "start_time": "2022-09-28T07:21:08.258Z"
   },
   {
    "duration": 10,
    "start_time": "2022-09-28T07:21:16.383Z"
   },
   {
    "duration": 10,
    "start_time": "2022-09-28T07:23:45.291Z"
   },
   {
    "duration": 16,
    "start_time": "2022-09-28T07:24:08.294Z"
   },
   {
    "duration": 9,
    "start_time": "2022-09-28T07:24:15.490Z"
   },
   {
    "duration": 13,
    "start_time": "2022-09-28T07:24:19.930Z"
   },
   {
    "duration": 11,
    "start_time": "2022-09-28T07:24:25.099Z"
   },
   {
    "duration": 10,
    "start_time": "2022-09-28T07:24:49.426Z"
   },
   {
    "duration": 9,
    "start_time": "2022-09-28T07:26:17.752Z"
   },
   {
    "duration": 11,
    "start_time": "2022-09-28T07:26:26.599Z"
   },
   {
    "duration": 10,
    "start_time": "2022-09-28T07:26:31.513Z"
   },
   {
    "duration": 9,
    "start_time": "2022-09-28T07:28:03.089Z"
   },
   {
    "duration": 5,
    "start_time": "2022-09-28T07:31:50.386Z"
   },
   {
    "duration": 10,
    "start_time": "2022-09-28T07:31:59.392Z"
   },
   {
    "duration": 119,
    "start_time": "2022-09-28T07:35:31.805Z"
   },
   {
    "duration": 10,
    "start_time": "2022-09-28T07:35:39.168Z"
   },
   {
    "duration": 18,
    "start_time": "2022-09-28T07:36:41.535Z"
   },
   {
    "duration": 17,
    "start_time": "2022-09-28T07:36:59.024Z"
   },
   {
    "duration": 16,
    "start_time": "2022-09-28T07:37:17.355Z"
   },
   {
    "duration": 17,
    "start_time": "2022-09-28T07:37:36.344Z"
   },
   {
    "duration": 20,
    "start_time": "2022-09-28T07:38:07.694Z"
   },
   {
    "duration": 12,
    "start_time": "2022-09-28T07:38:41.833Z"
   },
   {
    "duration": 14,
    "start_time": "2022-09-28T07:38:59.842Z"
   },
   {
    "duration": 9,
    "start_time": "2022-09-28T07:47:48.727Z"
   },
   {
    "duration": 10,
    "start_time": "2022-09-28T07:51:37.300Z"
   },
   {
    "duration": 13,
    "start_time": "2022-09-28T07:51:57.678Z"
   },
   {
    "duration": 13,
    "start_time": "2022-09-28T07:52:15.158Z"
   },
   {
    "duration": 11,
    "start_time": "2022-09-28T07:52:45.623Z"
   },
   {
    "duration": 20,
    "start_time": "2022-09-28T07:58:44.271Z"
   },
   {
    "duration": 8,
    "start_time": "2022-09-28T07:59:05.868Z"
   },
   {
    "duration": 9,
    "start_time": "2022-09-28T07:59:14.348Z"
   },
   {
    "duration": 14,
    "start_time": "2022-09-28T07:59:47.520Z"
   },
   {
    "duration": 10,
    "start_time": "2022-09-28T09:19:00.017Z"
   },
   {
    "duration": 13,
    "start_time": "2022-09-28T09:19:06.277Z"
   },
   {
    "duration": 12,
    "start_time": "2022-09-28T09:20:04.616Z"
   },
   {
    "duration": 10,
    "start_time": "2022-09-28T09:20:09.272Z"
   },
   {
    "duration": 11,
    "start_time": "2022-09-28T09:20:41.400Z"
   },
   {
    "duration": 9,
    "start_time": "2022-09-28T09:21:21.535Z"
   },
   {
    "duration": 9,
    "start_time": "2022-09-28T09:22:59.972Z"
   },
   {
    "duration": 5,
    "start_time": "2022-09-28T09:27:51.678Z"
   },
   {
    "duration": 5,
    "start_time": "2022-09-28T09:29:26.737Z"
   },
   {
    "duration": 8,
    "start_time": "2022-09-28T09:31:00.108Z"
   },
   {
    "duration": 8,
    "start_time": "2022-09-28T09:31:28.710Z"
   },
   {
    "duration": 7,
    "start_time": "2022-09-28T09:31:36.694Z"
   },
   {
    "duration": 78,
    "start_time": "2022-09-28T09:32:02.332Z"
   },
   {
    "duration": 8,
    "start_time": "2022-09-28T09:32:07.895Z"
   },
   {
    "duration": 6,
    "start_time": "2022-09-28T09:32:29.995Z"
   },
   {
    "duration": 1174,
    "start_time": "2022-09-28T15:45:53.339Z"
   },
   {
    "duration": 396,
    "start_time": "2022-09-28T15:47:10.798Z"
   },
   {
    "duration": 439,
    "start_time": "2022-09-28T16:29:23.162Z"
   },
   {
    "duration": 409,
    "start_time": "2022-09-28T16:35:16.401Z"
   },
   {
    "duration": 400,
    "start_time": "2022-09-28T16:35:28.902Z"
   },
   {
    "duration": 368,
    "start_time": "2022-09-28T16:36:11.018Z"
   },
   {
    "duration": 78,
    "start_time": "2022-09-28T16:36:55.833Z"
   },
   {
    "duration": 79,
    "start_time": "2022-09-28T16:37:02.464Z"
   },
   {
    "duration": 352,
    "start_time": "2022-09-28T16:37:09.747Z"
   },
   {
    "duration": 356,
    "start_time": "2022-09-28T16:37:28.716Z"
   },
   {
    "duration": 406,
    "start_time": "2022-09-28T16:37:43.088Z"
   },
   {
    "duration": 366,
    "start_time": "2022-09-28T16:39:25.099Z"
   },
   {
    "duration": 398,
    "start_time": "2022-09-28T16:39:53.407Z"
   },
   {
    "duration": 387,
    "start_time": "2022-09-28T16:41:26.792Z"
   },
   {
    "duration": 412,
    "start_time": "2022-09-28T16:42:12.072Z"
   },
   {
    "duration": 332,
    "start_time": "2022-09-28T16:42:57.344Z"
   },
   {
    "duration": 402,
    "start_time": "2022-09-28T16:52:34.776Z"
   },
   {
    "duration": 386,
    "start_time": "2022-09-28T16:52:56.111Z"
   },
   {
    "duration": 375,
    "start_time": "2022-09-28T16:53:05.933Z"
   },
   {
    "duration": 381,
    "start_time": "2022-09-28T16:53:14.780Z"
   },
   {
    "duration": 403,
    "start_time": "2022-09-28T16:53:38.562Z"
   },
   {
    "duration": 463,
    "start_time": "2022-09-28T16:54:57.810Z"
   },
   {
    "duration": 344,
    "start_time": "2022-09-28T16:55:16.240Z"
   },
   {
    "duration": 355,
    "start_time": "2022-09-28T16:55:22.533Z"
   },
   {
    "duration": 380,
    "start_time": "2022-09-28T16:55:59.881Z"
   },
   {
    "duration": 352,
    "start_time": "2022-09-28T16:56:11.043Z"
   },
   {
    "duration": 350,
    "start_time": "2022-09-28T16:56:31.926Z"
   },
   {
    "duration": 74,
    "start_time": "2022-09-28T16:56:45.643Z"
   },
   {
    "duration": 372,
    "start_time": "2022-09-28T16:56:52.212Z"
   },
   {
    "duration": 360,
    "start_time": "2022-09-28T16:57:13.909Z"
   },
   {
    "duration": 341,
    "start_time": "2022-09-28T16:57:59.757Z"
   },
   {
    "duration": 67,
    "start_time": "2022-09-28T16:58:25.849Z"
   },
   {
    "duration": 15,
    "start_time": "2022-09-28T16:58:25.917Z"
   },
   {
    "duration": 15,
    "start_time": "2022-09-28T16:58:25.933Z"
   },
   {
    "duration": 8,
    "start_time": "2022-09-28T16:58:25.949Z"
   },
   {
    "duration": 31,
    "start_time": "2022-09-28T16:58:25.958Z"
   },
   {
    "duration": 4,
    "start_time": "2022-09-28T16:58:25.990Z"
   },
   {
    "duration": 31,
    "start_time": "2022-09-28T16:58:25.996Z"
   },
   {
    "duration": 5,
    "start_time": "2022-09-28T16:58:26.029Z"
   },
   {
    "duration": 11,
    "start_time": "2022-09-28T16:58:26.036Z"
   },
   {
    "duration": 13,
    "start_time": "2022-09-28T16:58:26.049Z"
   },
   {
    "duration": 43,
    "start_time": "2022-09-28T16:58:26.063Z"
   },
   {
    "duration": 22,
    "start_time": "2022-09-28T16:58:26.108Z"
   },
   {
    "duration": 16,
    "start_time": "2022-09-28T16:58:26.133Z"
   },
   {
    "duration": 37,
    "start_time": "2022-09-28T16:58:26.151Z"
   },
   {
    "duration": 24,
    "start_time": "2022-09-28T16:58:26.190Z"
   },
   {
    "duration": 16,
    "start_time": "2022-09-28T16:58:26.215Z"
   },
   {
    "duration": 3,
    "start_time": "2022-09-28T16:58:26.233Z"
   },
   {
    "duration": 14,
    "start_time": "2022-09-28T16:58:26.237Z"
   },
   {
    "duration": 5,
    "start_time": "2022-09-28T16:58:26.252Z"
   },
   {
    "duration": 12,
    "start_time": "2022-09-28T16:58:26.258Z"
   },
   {
    "duration": 16,
    "start_time": "2022-09-28T16:58:26.272Z"
   },
   {
    "duration": 374,
    "start_time": "2022-09-28T16:58:29.622Z"
   },
   {
    "duration": 75,
    "start_time": "2022-09-28T17:01:45.244Z"
   },
   {
    "duration": 73,
    "start_time": "2022-09-28T17:02:06.498Z"
   },
   {
    "duration": 116,
    "start_time": "2022-09-28T17:02:13.882Z"
   },
   {
    "duration": 98,
    "start_time": "2022-09-28T17:03:09.142Z"
   },
   {
    "duration": 74,
    "start_time": "2022-09-28T17:03:13.815Z"
   },
   {
    "duration": 68,
    "start_time": "2022-09-28T17:03:18.303Z"
   },
   {
    "duration": 15,
    "start_time": "2022-09-28T17:03:18.373Z"
   },
   {
    "duration": 22,
    "start_time": "2022-09-28T17:03:18.390Z"
   },
   {
    "duration": 10,
    "start_time": "2022-09-28T17:03:18.421Z"
   },
   {
    "duration": 32,
    "start_time": "2022-09-28T17:03:18.432Z"
   },
   {
    "duration": 3,
    "start_time": "2022-09-28T17:03:18.466Z"
   },
   {
    "duration": 11,
    "start_time": "2022-09-28T17:03:18.471Z"
   },
   {
    "duration": 5,
    "start_time": "2022-09-28T17:03:18.483Z"
   },
   {
    "duration": 6,
    "start_time": "2022-09-28T17:03:18.522Z"
   },
   {
    "duration": 6,
    "start_time": "2022-09-28T17:03:18.531Z"
   },
   {
    "duration": 35,
    "start_time": "2022-09-28T17:03:18.538Z"
   },
   {
    "duration": 10,
    "start_time": "2022-09-28T17:03:18.574Z"
   },
   {
    "duration": 4,
    "start_time": "2022-09-28T17:03:18.586Z"
   },
   {
    "duration": 36,
    "start_time": "2022-09-28T17:03:18.591Z"
   },
   {
    "duration": 17,
    "start_time": "2022-09-28T17:03:18.629Z"
   },
   {
    "duration": 18,
    "start_time": "2022-09-28T17:03:18.648Z"
   },
   {
    "duration": 3,
    "start_time": "2022-09-28T17:03:18.668Z"
   },
   {
    "duration": 14,
    "start_time": "2022-09-28T17:03:18.672Z"
   },
   {
    "duration": 5,
    "start_time": "2022-09-28T17:03:18.688Z"
   },
   {
    "duration": 28,
    "start_time": "2022-09-28T17:03:18.695Z"
   },
   {
    "duration": 19,
    "start_time": "2022-09-28T17:03:18.724Z"
   },
   {
    "duration": 75,
    "start_time": "2022-09-28T17:03:26.635Z"
   },
   {
    "duration": 387,
    "start_time": "2022-09-28T17:03:41.847Z"
   },
   {
    "duration": 468,
    "start_time": "2022-09-28T17:04:10.801Z"
   },
   {
    "duration": 366,
    "start_time": "2022-09-28T17:04:16.216Z"
   },
   {
    "duration": 340,
    "start_time": "2022-09-28T17:04:36.928Z"
   },
   {
    "duration": 6,
    "start_time": "2022-09-28T18:16:31.665Z"
   },
   {
    "duration": 419,
    "start_time": "2022-09-28T18:16:38.785Z"
   },
   {
    "duration": 440,
    "start_time": "2022-09-28T18:16:46.903Z"
   },
   {
    "duration": 380,
    "start_time": "2022-09-28T18:19:04.521Z"
   },
   {
    "duration": 81,
    "start_time": "2022-09-28T18:19:24.810Z"
   },
   {
    "duration": 418,
    "start_time": "2022-09-28T18:19:41.037Z"
   },
   {
    "duration": 396,
    "start_time": "2022-09-28T18:22:09.384Z"
   },
   {
    "duration": 47,
    "start_time": "2022-09-29T06:34:24.428Z"
   },
   {
    "duration": 519,
    "start_time": "2022-09-29T06:34:28.561Z"
   },
   {
    "duration": 23,
    "start_time": "2022-09-29T06:34:29.082Z"
   },
   {
    "duration": 15,
    "start_time": "2022-09-29T06:34:29.107Z"
   },
   {
    "duration": 9,
    "start_time": "2022-09-29T06:34:29.124Z"
   },
   {
    "duration": 33,
    "start_time": "2022-09-29T06:34:29.135Z"
   },
   {
    "duration": 3,
    "start_time": "2022-09-29T06:34:29.170Z"
   },
   {
    "duration": 28,
    "start_time": "2022-09-29T06:34:29.174Z"
   },
   {
    "duration": 7,
    "start_time": "2022-09-29T06:34:29.204Z"
   },
   {
    "duration": 9,
    "start_time": "2022-09-29T06:34:29.212Z"
   },
   {
    "duration": 5,
    "start_time": "2022-09-29T06:34:29.223Z"
   },
   {
    "duration": 37,
    "start_time": "2022-09-29T06:34:29.229Z"
   },
   {
    "duration": 33,
    "start_time": "2022-09-29T06:34:29.267Z"
   },
   {
    "duration": 4,
    "start_time": "2022-09-29T06:34:29.302Z"
   },
   {
    "duration": 12,
    "start_time": "2022-09-29T06:34:29.307Z"
   },
   {
    "duration": 24,
    "start_time": "2022-09-29T06:34:29.321Z"
   },
   {
    "duration": 19,
    "start_time": "2022-09-29T06:34:29.347Z"
   },
   {
    "duration": 27,
    "start_time": "2022-09-29T06:34:29.369Z"
   },
   {
    "duration": 12,
    "start_time": "2022-09-29T06:34:29.398Z"
   },
   {
    "duration": 7,
    "start_time": "2022-09-29T06:34:29.412Z"
   },
   {
    "duration": 4,
    "start_time": "2022-09-29T06:34:29.420Z"
   },
   {
    "duration": 12,
    "start_time": "2022-09-29T06:34:29.426Z"
   },
   {
    "duration": 1469,
    "start_time": "2022-09-29T06:34:41.659Z"
   },
   {
    "duration": 377,
    "start_time": "2022-09-29T06:34:58.400Z"
   },
   {
    "duration": 420,
    "start_time": "2022-09-29T06:35:15.555Z"
   },
   {
    "duration": 405,
    "start_time": "2022-09-29T06:35:34.774Z"
   },
   {
    "duration": 505,
    "start_time": "2022-09-29T06:35:49.725Z"
   },
   {
    "duration": 366,
    "start_time": "2022-09-29T06:36:01.613Z"
   },
   {
    "duration": 416,
    "start_time": "2022-09-29T06:38:20.258Z"
   },
   {
    "duration": 481,
    "start_time": "2022-09-29T06:38:33.209Z"
   },
   {
    "duration": 404,
    "start_time": "2022-09-29T06:39:08.376Z"
   },
   {
    "duration": 14,
    "start_time": "2022-09-29T06:54:53.603Z"
   },
   {
    "duration": 83,
    "start_time": "2022-09-29T06:56:18.534Z"
   },
   {
    "duration": 15,
    "start_time": "2022-09-29T06:56:24.001Z"
   },
   {
    "duration": 72,
    "start_time": "2022-09-29T07:00:37.395Z"
   },
   {
    "duration": 14,
    "start_time": "2022-09-29T07:00:47.215Z"
   },
   {
    "duration": 14,
    "start_time": "2022-09-29T07:01:41.328Z"
   },
   {
    "duration": 14,
    "start_time": "2022-09-29T07:02:03.408Z"
   },
   {
    "duration": 19,
    "start_time": "2022-09-29T07:04:27.451Z"
   },
   {
    "duration": 13,
    "start_time": "2022-09-29T07:04:35.312Z"
   },
   {
    "duration": 110,
    "start_time": "2022-09-29T07:04:51.577Z"
   },
   {
    "duration": 16,
    "start_time": "2022-09-29T07:04:56.370Z"
   },
   {
    "duration": 23,
    "start_time": "2022-09-29T07:11:13.119Z"
   },
   {
    "duration": 15,
    "start_time": "2022-09-29T07:12:47.137Z"
   },
   {
    "duration": 23,
    "start_time": "2022-09-29T07:14:28.857Z"
   },
   {
    "duration": 14,
    "start_time": "2022-09-29T07:14:39.043Z"
   },
   {
    "duration": 21,
    "start_time": "2022-09-29T07:18:15.542Z"
   },
   {
    "duration": 18,
    "start_time": "2022-09-29T07:18:32.253Z"
   },
   {
    "duration": 44,
    "start_time": "2022-09-29T07:24:02.188Z"
   },
   {
    "duration": 40,
    "start_time": "2022-09-29T07:24:30.988Z"
   },
   {
    "duration": 30,
    "start_time": "2022-09-29T07:24:56.188Z"
   },
   {
    "duration": 28,
    "start_time": "2022-09-29T07:27:12.240Z"
   },
   {
    "duration": 20,
    "start_time": "2022-09-29T07:27:34.022Z"
   },
   {
    "duration": 34,
    "start_time": "2022-09-29T07:28:50.524Z"
   },
   {
    "duration": 29,
    "start_time": "2022-09-29T07:31:09.409Z"
   },
   {
    "duration": 29,
    "start_time": "2022-09-29T07:31:45.327Z"
   },
   {
    "duration": 30,
    "start_time": "2022-09-29T07:33:29.596Z"
   },
   {
    "duration": 34,
    "start_time": "2022-09-29T07:33:41.321Z"
   },
   {
    "duration": 42,
    "start_time": "2022-09-29T07:33:50.487Z"
   },
   {
    "duration": 17,
    "start_time": "2022-09-29T07:36:29.024Z"
   },
   {
    "duration": 21,
    "start_time": "2022-09-29T07:36:52.959Z"
   },
   {
    "duration": 132,
    "start_time": "2022-09-29T07:39:38.289Z"
   },
   {
    "duration": 32,
    "start_time": "2022-09-29T07:39:47.192Z"
   },
   {
    "duration": 30,
    "start_time": "2022-09-29T07:40:01.605Z"
   },
   {
    "duration": 27,
    "start_time": "2022-09-29T07:40:42.433Z"
   },
   {
    "duration": 20,
    "start_time": "2022-09-29T07:41:17.608Z"
   },
   {
    "duration": 25,
    "start_time": "2022-09-29T07:45:48.548Z"
   },
   {
    "duration": 43,
    "start_time": "2022-09-29T07:46:02.785Z"
   },
   {
    "duration": 20,
    "start_time": "2022-09-29T07:49:36.166Z"
   },
   {
    "duration": 114,
    "start_time": "2022-09-29T07:50:07.316Z"
   },
   {
    "duration": 19,
    "start_time": "2022-09-29T07:50:26.172Z"
   },
   {
    "duration": 28,
    "start_time": "2022-09-29T07:52:39.036Z"
   },
   {
    "duration": 26,
    "start_time": "2022-09-29T07:53:10.528Z"
   },
   {
    "duration": 17,
    "start_time": "2022-09-29T07:53:25.532Z"
   },
   {
    "duration": 37,
    "start_time": "2022-09-29T07:53:41.768Z"
   },
   {
    "duration": 25,
    "start_time": "2022-09-29T07:54:27.431Z"
   },
   {
    "duration": 24,
    "start_time": "2022-09-29T07:54:49.327Z"
   },
   {
    "duration": 38,
    "start_time": "2022-09-29T07:54:57.991Z"
   },
   {
    "duration": 22,
    "start_time": "2022-09-29T07:55:09.343Z"
   },
   {
    "duration": 38,
    "start_time": "2022-09-29T07:55:17.175Z"
   },
   {
    "duration": 25,
    "start_time": "2022-09-29T07:55:37.217Z"
   },
   {
    "duration": 23,
    "start_time": "2022-09-29T07:56:34.855Z"
   },
   {
    "duration": 24,
    "start_time": "2022-09-29T07:56:59.327Z"
   },
   {
    "duration": 24,
    "start_time": "2022-09-29T07:57:20.963Z"
   },
   {
    "duration": 24,
    "start_time": "2022-09-29T07:58:23.030Z"
   },
   {
    "duration": 25,
    "start_time": "2022-09-29T07:58:49.319Z"
   },
   {
    "duration": 21,
    "start_time": "2022-09-29T07:59:45.742Z"
   },
   {
    "duration": 22,
    "start_time": "2022-09-29T08:00:19.635Z"
   },
   {
    "duration": 26,
    "start_time": "2022-09-29T08:01:36.823Z"
   },
   {
    "duration": 30,
    "start_time": "2022-09-29T08:02:04.015Z"
   },
   {
    "duration": 24,
    "start_time": "2022-09-29T08:02:36.263Z"
   },
   {
    "duration": 32,
    "start_time": "2022-09-29T08:03:00.288Z"
   },
   {
    "duration": 39,
    "start_time": "2022-09-29T08:04:24.893Z"
   },
   {
    "duration": 41,
    "start_time": "2022-09-29T08:04:42.493Z"
   },
   {
    "duration": 20,
    "start_time": "2022-09-29T08:05:48.254Z"
   },
   {
    "duration": 19,
    "start_time": "2022-09-29T08:06:12.120Z"
   },
   {
    "duration": 19,
    "start_time": "2022-09-29T08:06:50.323Z"
   },
   {
    "duration": 462,
    "start_time": "2022-09-29T08:17:00.475Z"
   },
   {
    "duration": 443,
    "start_time": "2022-09-29T08:20:10.961Z"
   },
   {
    "duration": 419,
    "start_time": "2022-09-29T08:20:20.115Z"
   },
   {
    "duration": 468,
    "start_time": "2022-09-29T08:20:31.664Z"
   },
   {
    "duration": 461,
    "start_time": "2022-09-29T08:20:38.615Z"
   },
   {
    "duration": 24,
    "start_time": "2022-09-29T08:24:25.817Z"
   },
   {
    "duration": 42,
    "start_time": "2022-09-29T08:28:14.947Z"
   },
   {
    "duration": 51,
    "start_time": "2022-09-29T08:28:36.783Z"
   },
   {
    "duration": 48,
    "start_time": "2022-09-29T08:28:45.694Z"
   },
   {
    "duration": 464,
    "start_time": "2022-09-29T08:30:52.682Z"
   },
   {
    "duration": 22,
    "start_time": "2022-09-29T08:35:50.419Z"
   },
   {
    "duration": 125,
    "start_time": "2022-09-29T08:41:20.343Z"
   },
   {
    "duration": 474,
    "start_time": "2022-09-29T08:41:30.051Z"
   },
   {
    "duration": 466,
    "start_time": "2022-09-29T08:41:55.529Z"
   },
   {
    "duration": 71,
    "start_time": "2022-09-29T08:42:41.319Z"
   },
   {
    "duration": 448,
    "start_time": "2022-09-29T08:42:56.017Z"
   },
   {
    "duration": 1263,
    "start_time": "2022-09-29T09:19:03.362Z"
   },
   {
    "duration": 28,
    "start_time": "2022-09-29T09:19:05.568Z"
   },
   {
    "duration": 16,
    "start_time": "2022-09-29T09:19:07.616Z"
   },
   {
    "duration": 14,
    "start_time": "2022-09-29T09:19:11.994Z"
   },
   {
    "duration": 35,
    "start_time": "2022-09-29T09:19:14.168Z"
   },
   {
    "duration": 4,
    "start_time": "2022-09-29T09:19:18.242Z"
   },
   {
    "duration": 9,
    "start_time": "2022-09-29T09:19:20.357Z"
   },
   {
    "duration": 5,
    "start_time": "2022-09-29T09:19:22.557Z"
   },
   {
    "duration": 7,
    "start_time": "2022-09-29T09:19:23.850Z"
   },
   {
    "duration": 5,
    "start_time": "2022-09-29T09:19:25.080Z"
   },
   {
    "duration": 54,
    "start_time": "2022-09-29T09:19:26.754Z"
   },
   {
    "duration": 14,
    "start_time": "2022-09-29T09:19:28.017Z"
   },
   {
    "duration": 4,
    "start_time": "2022-09-29T09:19:30.178Z"
   },
   {
    "duration": 22,
    "start_time": "2022-09-29T09:19:36.589Z"
   },
   {
    "duration": 21,
    "start_time": "2022-09-29T09:19:37.550Z"
   },
   {
    "duration": 22,
    "start_time": "2022-09-29T09:19:38.013Z"
   },
   {
    "duration": 4,
    "start_time": "2022-09-29T09:19:44.509Z"
   },
   {
    "duration": 11,
    "start_time": "2022-09-29T09:19:45.377Z"
   },
   {
    "duration": 20,
    "start_time": "2022-09-29T09:19:47.089Z"
   },
   {
    "duration": 4,
    "start_time": "2022-09-29T09:19:49.080Z"
   },
   {
    "duration": 11,
    "start_time": "2022-09-29T09:19:49.509Z"
   },
   {
    "duration": 437,
    "start_time": "2022-09-29T09:19:52.121Z"
   },
   {
    "duration": 20,
    "start_time": "2022-09-29T09:20:00.445Z"
   },
   {
    "duration": 441,
    "start_time": "2022-09-29T09:20:20.579Z"
   },
   {
    "duration": 444,
    "start_time": "2022-09-29T09:20:25.256Z"
   },
   {
    "duration": 5,
    "start_time": "2022-09-29T11:14:07.076Z"
   },
   {
    "duration": 6,
    "start_time": "2022-09-29T11:15:23.513Z"
   },
   {
    "duration": 796,
    "start_time": "2022-09-29T11:17:35.065Z"
   },
   {
    "duration": 174,
    "start_time": "2022-09-29T11:17:58.056Z"
   },
   {
    "duration": 135,
    "start_time": "2022-09-29T11:18:50.497Z"
   },
   {
    "duration": 180,
    "start_time": "2022-09-29T11:20:11.633Z"
   },
   {
    "duration": 162,
    "start_time": "2022-09-29T11:20:29.257Z"
   },
   {
    "duration": 32,
    "start_time": "2022-09-29T11:35:47.655Z"
   },
   {
    "duration": 711,
    "start_time": "2022-09-29T11:37:02.066Z"
   },
   {
    "duration": 733,
    "start_time": "2022-09-29T11:37:27.340Z"
   },
   {
    "duration": 14,
    "start_time": "2022-09-29T11:37:48.955Z"
   },
   {
    "duration": 701,
    "start_time": "2022-09-29T11:37:55.021Z"
   },
   {
    "duration": 458,
    "start_time": "2022-09-29T11:38:35.632Z"
   },
   {
    "duration": 467,
    "start_time": "2022-09-29T11:39:02.091Z"
   },
   {
    "duration": 466,
    "start_time": "2022-09-29T11:40:29.461Z"
   },
   {
    "duration": 18,
    "start_time": "2022-09-29T11:41:22.934Z"
   },
   {
    "duration": 400,
    "start_time": "2022-09-29T11:41:31.658Z"
   },
   {
    "duration": 352,
    "start_time": "2022-09-29T11:41:57.212Z"
   },
   {
    "duration": 650,
    "start_time": "2022-09-29T11:42:11.843Z"
   },
   {
    "duration": 540,
    "start_time": "2022-09-29T11:43:40.211Z"
   },
   {
    "duration": 1364,
    "start_time": "2022-09-29T11:44:15.013Z"
   },
   {
    "duration": 1272,
    "start_time": "2022-09-29T11:45:38.112Z"
   },
   {
    "duration": 1386,
    "start_time": "2022-09-29T11:45:56.742Z"
   },
   {
    "duration": 1336,
    "start_time": "2022-09-29T11:46:47.911Z"
   },
   {
    "duration": 412,
    "start_time": "2022-09-29T11:50:42.141Z"
   },
   {
    "duration": 1447,
    "start_time": "2022-09-29T11:50:56.607Z"
   },
   {
    "duration": 28,
    "start_time": "2022-09-29T11:52:18.234Z"
   },
   {
    "duration": 78,
    "start_time": "2022-09-29T11:52:50.800Z"
   },
   {
    "duration": 25,
    "start_time": "2022-09-29T11:52:50.880Z"
   },
   {
    "duration": 20,
    "start_time": "2022-09-29T11:52:50.908Z"
   },
   {
    "duration": 13,
    "start_time": "2022-09-29T11:52:50.931Z"
   },
   {
    "duration": 38,
    "start_time": "2022-09-29T11:52:50.946Z"
   },
   {
    "duration": 23,
    "start_time": "2022-09-29T11:52:50.985Z"
   },
   {
    "duration": 14,
    "start_time": "2022-09-29T11:52:51.012Z"
   },
   {
    "duration": 7,
    "start_time": "2022-09-29T11:52:51.028Z"
   },
   {
    "duration": 13,
    "start_time": "2022-09-29T11:52:51.037Z"
   },
   {
    "duration": 6,
    "start_time": "2022-09-29T11:52:51.053Z"
   },
   {
    "duration": 47,
    "start_time": "2022-09-29T11:52:51.060Z"
   },
   {
    "duration": 15,
    "start_time": "2022-09-29T11:52:51.110Z"
   },
   {
    "duration": 6,
    "start_time": "2022-09-29T11:52:51.126Z"
   },
   {
    "duration": 11,
    "start_time": "2022-09-29T11:52:51.134Z"
   },
   {
    "duration": 27,
    "start_time": "2022-09-29T11:52:51.147Z"
   },
   {
    "duration": 38,
    "start_time": "2022-09-29T11:52:51.176Z"
   },
   {
    "duration": 5,
    "start_time": "2022-09-29T11:52:51.216Z"
   },
   {
    "duration": 17,
    "start_time": "2022-09-29T11:52:51.222Z"
   },
   {
    "duration": 9,
    "start_time": "2022-09-29T11:52:51.241Z"
   },
   {
    "duration": 4,
    "start_time": "2022-09-29T11:52:51.252Z"
   },
   {
    "duration": 16,
    "start_time": "2022-09-29T11:52:51.258Z"
   },
   {
    "duration": 454,
    "start_time": "2022-09-29T11:52:51.276Z"
   },
   {
    "duration": 23,
    "start_time": "2022-09-29T11:52:51.731Z"
   },
   {
    "duration": 19,
    "start_time": "2022-09-29T11:52:54.644Z"
   },
   {
    "duration": 1013,
    "start_time": "2022-09-29T11:53:42.933Z"
   },
   {
    "duration": 1068,
    "start_time": "2022-09-29T11:54:47.850Z"
   },
   {
    "duration": 987,
    "start_time": "2022-09-29T11:55:45.251Z"
   },
   {
    "duration": 1007,
    "start_time": "2022-09-29T11:55:57.992Z"
   },
   {
    "duration": 27,
    "start_time": "2022-09-29T11:56:05.620Z"
   },
   {
    "duration": 19,
    "start_time": "2022-09-29T11:56:32.649Z"
   },
   {
    "duration": 1222,
    "start_time": "2022-09-29T11:56:38.351Z"
   },
   {
    "duration": 1137,
    "start_time": "2022-09-29T11:56:43.240Z"
   },
   {
    "duration": 1113,
    "start_time": "2022-09-29T11:58:34.901Z"
   },
   {
    "duration": 12,
    "start_time": "2022-09-30T15:13:41.478Z"
   },
   {
    "duration": 49,
    "start_time": "2022-09-30T15:13:50.060Z"
   },
   {
    "duration": 1693,
    "start_time": "2022-09-30T15:13:54.097Z"
   },
   {
    "duration": 21,
    "start_time": "2022-09-30T15:13:55.792Z"
   },
   {
    "duration": 18,
    "start_time": "2022-09-30T15:13:55.815Z"
   },
   {
    "duration": 28,
    "start_time": "2022-09-30T15:13:55.835Z"
   },
   {
    "duration": 54,
    "start_time": "2022-09-30T15:13:55.865Z"
   },
   {
    "duration": 4,
    "start_time": "2022-09-30T15:13:55.921Z"
   },
   {
    "duration": 22,
    "start_time": "2022-09-30T15:13:55.926Z"
   },
   {
    "duration": 11,
    "start_time": "2022-09-30T15:13:55.950Z"
   },
   {
    "duration": 18,
    "start_time": "2022-09-30T15:13:55.963Z"
   },
   {
    "duration": 8,
    "start_time": "2022-09-30T15:13:55.985Z"
   },
   {
    "duration": 60,
    "start_time": "2022-09-30T15:13:55.995Z"
   },
   {
    "duration": 10,
    "start_time": "2022-09-30T15:13:56.057Z"
   },
   {
    "duration": 12,
    "start_time": "2022-09-30T15:13:56.069Z"
   },
   {
    "duration": 14,
    "start_time": "2022-09-30T15:13:56.083Z"
   },
   {
    "duration": 29,
    "start_time": "2022-09-30T15:13:56.099Z"
   },
   {
    "duration": 18,
    "start_time": "2022-09-30T15:13:56.130Z"
   },
   {
    "duration": 4,
    "start_time": "2022-09-30T15:13:56.149Z"
   },
   {
    "duration": 22,
    "start_time": "2022-09-30T15:13:56.154Z"
   },
   {
    "duration": 14,
    "start_time": "2022-09-30T15:13:56.178Z"
   },
   {
    "duration": 13,
    "start_time": "2022-09-30T15:13:56.193Z"
   },
   {
    "duration": 36,
    "start_time": "2022-09-30T15:13:56.208Z"
   },
   {
    "duration": 590,
    "start_time": "2022-09-30T15:13:56.246Z"
   },
   {
    "duration": 459,
    "start_time": "2022-09-30T15:14:01.474Z"
   },
   {
    "duration": 407,
    "start_time": "2022-09-30T15:14:44.319Z"
   },
   {
    "duration": 419,
    "start_time": "2022-09-30T15:15:46.820Z"
   },
   {
    "duration": 417,
    "start_time": "2022-09-30T15:17:27.555Z"
   },
   {
    "duration": 425,
    "start_time": "2022-09-30T15:17:40.811Z"
   },
   {
    "duration": 448,
    "start_time": "2022-09-30T15:18:11.989Z"
   },
   {
    "duration": 426,
    "start_time": "2022-09-30T15:18:36.145Z"
   },
   {
    "duration": 429,
    "start_time": "2022-09-30T15:47:39.125Z"
   },
   {
    "duration": 536,
    "start_time": "2022-09-30T15:48:04.601Z"
   },
   {
    "duration": 433,
    "start_time": "2022-09-30T15:48:26.237Z"
   },
   {
    "duration": 437,
    "start_time": "2022-09-30T15:48:46.280Z"
   },
   {
    "duration": 462,
    "start_time": "2022-09-30T15:49:28.946Z"
   },
   {
    "duration": 439,
    "start_time": "2022-09-30T15:49:50.601Z"
   },
   {
    "duration": 454,
    "start_time": "2022-09-30T15:50:05.516Z"
   },
   {
    "duration": 449,
    "start_time": "2022-09-30T15:55:23.981Z"
   },
   {
    "duration": 459,
    "start_time": "2022-09-30T15:56:12.371Z"
   },
   {
    "duration": 440,
    "start_time": "2022-09-30T15:56:31.504Z"
   },
   {
    "duration": 415,
    "start_time": "2022-09-30T15:56:46.741Z"
   },
   {
    "duration": 1618,
    "start_time": "2022-10-01T05:12:09.768Z"
   },
   {
    "duration": 24,
    "start_time": "2022-10-01T05:12:11.388Z"
   },
   {
    "duration": 23,
    "start_time": "2022-10-01T05:12:11.414Z"
   },
   {
    "duration": 19,
    "start_time": "2022-10-01T05:12:11.440Z"
   },
   {
    "duration": 40,
    "start_time": "2022-10-01T05:12:11.462Z"
   },
   {
    "duration": 5,
    "start_time": "2022-10-01T05:12:11.503Z"
   },
   {
    "duration": 11,
    "start_time": "2022-10-01T05:12:11.509Z"
   },
   {
    "duration": 6,
    "start_time": "2022-10-01T05:12:11.522Z"
   },
   {
    "duration": 13,
    "start_time": "2022-10-01T05:12:11.530Z"
   },
   {
    "duration": 6,
    "start_time": "2022-10-01T05:12:11.546Z"
   },
   {
    "duration": 74,
    "start_time": "2022-10-01T05:12:11.553Z"
   },
   {
    "duration": 9,
    "start_time": "2022-10-01T05:12:11.628Z"
   },
   {
    "duration": 10,
    "start_time": "2022-10-01T05:12:11.639Z"
   },
   {
    "duration": 16,
    "start_time": "2022-10-01T05:12:11.650Z"
   },
   {
    "duration": 26,
    "start_time": "2022-10-01T05:12:11.667Z"
   },
   {
    "duration": 17,
    "start_time": "2022-10-01T05:12:11.694Z"
   },
   {
    "duration": 4,
    "start_time": "2022-10-01T05:12:11.712Z"
   },
   {
    "duration": 13,
    "start_time": "2022-10-01T05:12:11.717Z"
   },
   {
    "duration": 5,
    "start_time": "2022-10-01T05:12:11.732Z"
   },
   {
    "duration": 4,
    "start_time": "2022-10-01T05:12:11.739Z"
   },
   {
    "duration": 18,
    "start_time": "2022-10-01T05:12:11.744Z"
   },
   {
    "duration": 521,
    "start_time": "2022-10-01T05:12:19.411Z"
   },
   {
    "duration": 543,
    "start_time": "2022-10-01T05:16:17.848Z"
   },
   {
    "duration": 435,
    "start_time": "2022-10-01T05:16:56.260Z"
   },
   {
    "duration": 415,
    "start_time": "2022-10-01T05:17:54.075Z"
   },
   {
    "duration": 439,
    "start_time": "2022-10-01T05:23:44.356Z"
   },
   {
    "duration": 426,
    "start_time": "2022-10-01T05:24:02.505Z"
   },
   {
    "duration": 474,
    "start_time": "2022-10-01T05:24:47.019Z"
   },
   {
    "duration": 440,
    "start_time": "2022-10-01T05:25:07.759Z"
   },
   {
    "duration": 471,
    "start_time": "2022-10-01T05:26:04.532Z"
   },
   {
    "duration": 538,
    "start_time": "2022-10-01T05:30:18.637Z"
   },
   {
    "duration": 417,
    "start_time": "2022-10-01T05:30:59.791Z"
   },
   {
    "duration": 467,
    "start_time": "2022-10-01T05:40:25.005Z"
   },
   {
    "duration": 441,
    "start_time": "2022-10-01T05:40:41.428Z"
   },
   {
    "duration": 443,
    "start_time": "2022-10-01T05:40:48.487Z"
   },
   {
    "duration": 427,
    "start_time": "2022-10-01T05:41:00.075Z"
   },
   {
    "duration": 468,
    "start_time": "2022-10-01T05:41:15.410Z"
   },
   {
    "duration": 1252,
    "start_time": "2022-10-01T05:42:02.542Z"
   },
   {
    "duration": 448,
    "start_time": "2022-10-01T05:46:01.854Z"
   },
   {
    "duration": 438,
    "start_time": "2022-10-01T05:46:43.466Z"
   },
   {
    "duration": 448,
    "start_time": "2022-10-01T05:48:09.311Z"
   },
   {
    "duration": 527,
    "start_time": "2022-10-01T05:48:16.487Z"
   },
   {
    "duration": 433,
    "start_time": "2022-10-01T05:48:50.767Z"
   },
   {
    "duration": 476,
    "start_time": "2022-10-01T05:49:54.424Z"
   },
   {
    "duration": 362,
    "start_time": "2022-10-01T05:50:37.096Z"
   },
   {
    "duration": 447,
    "start_time": "2022-10-01T05:50:55.902Z"
   },
   {
    "duration": 620,
    "start_time": "2022-10-01T05:54:41.924Z"
   },
   {
    "duration": 597,
    "start_time": "2022-10-01T05:55:22.209Z"
   },
   {
    "duration": 520,
    "start_time": "2022-10-01T05:56:19.536Z"
   },
   {
    "duration": 415,
    "start_time": "2022-10-01T05:57:30.781Z"
   },
   {
    "duration": 521,
    "start_time": "2022-10-01T05:58:28.508Z"
   },
   {
    "duration": 631,
    "start_time": "2022-10-01T05:59:08.351Z"
   },
   {
    "duration": 533,
    "start_time": "2022-10-01T06:43:31.785Z"
   },
   {
    "duration": 470,
    "start_time": "2022-10-01T06:43:52.219Z"
   },
   {
    "duration": 458,
    "start_time": "2022-10-01T06:44:12.122Z"
   },
   {
    "duration": 503,
    "start_time": "2022-10-01T06:44:30.123Z"
   },
   {
    "duration": 449,
    "start_time": "2022-10-01T06:46:38.530Z"
   },
   {
    "duration": 431,
    "start_time": "2022-10-01T06:47:48.770Z"
   },
   {
    "duration": 420,
    "start_time": "2022-10-01T06:53:19.405Z"
   },
   {
    "duration": 52,
    "start_time": "2022-10-01T07:11:58.077Z"
   },
   {
    "duration": 24,
    "start_time": "2022-10-01T07:52:38.241Z"
   },
   {
    "duration": 29,
    "start_time": "2022-10-01T07:52:45.341Z"
   },
   {
    "duration": 477,
    "start_time": "2022-10-01T07:57:06.194Z"
   },
   {
    "duration": 130,
    "start_time": "2022-10-01T08:01:33.971Z"
   },
   {
    "duration": 102,
    "start_time": "2022-10-01T08:01:50.508Z"
   },
   {
    "duration": 57,
    "start_time": "2022-10-01T08:13:21.445Z"
   },
   {
    "duration": 261,
    "start_time": "2022-10-01T08:39:53.632Z"
   },
   {
    "duration": 457,
    "start_time": "2022-10-01T08:40:15.308Z"
   },
   {
    "duration": 412,
    "start_time": "2022-10-01T08:41:14.354Z"
   },
   {
    "duration": 451,
    "start_time": "2022-10-01T09:09:53.832Z"
   },
   {
    "duration": 548,
    "start_time": "2022-10-01T09:38:02.349Z"
   },
   {
    "duration": 438,
    "start_time": "2022-10-01T09:38:31.174Z"
   },
   {
    "duration": 427,
    "start_time": "2022-10-01T09:40:36.084Z"
   },
   {
    "duration": 26,
    "start_time": "2022-10-01T13:23:09.791Z"
   },
   {
    "duration": 6265,
    "start_time": "2022-10-01T13:32:12.374Z"
   },
   {
    "duration": 6511,
    "start_time": "2022-10-01T13:33:03.621Z"
   },
   {
    "duration": 69,
    "start_time": "2022-10-01T13:35:08.628Z"
   },
   {
    "duration": 6257,
    "start_time": "2022-10-01T13:36:35.424Z"
   },
   {
    "duration": 6188,
    "start_time": "2022-10-01T13:38:50.199Z"
   },
   {
    "duration": 5755,
    "start_time": "2022-10-01T13:39:44.490Z"
   },
   {
    "duration": 5856,
    "start_time": "2022-10-01T13:40:04.510Z"
   },
   {
    "duration": 6046,
    "start_time": "2022-10-01T13:40:36.188Z"
   },
   {
    "duration": 5714,
    "start_time": "2022-10-01T13:41:35.518Z"
   },
   {
    "duration": 5800,
    "start_time": "2022-10-01T13:43:37.383Z"
   },
   {
    "duration": 5784,
    "start_time": "2022-10-01T13:44:19.184Z"
   },
   {
    "duration": 7,
    "start_time": "2022-10-01T13:45:07.728Z"
   },
   {
    "duration": 5859,
    "start_time": "2022-10-01T13:45:12.919Z"
   },
   {
    "duration": 1044,
    "start_time": "2022-10-01T13:47:40.532Z"
   },
   {
    "duration": 1050,
    "start_time": "2022-10-01T13:49:10.692Z"
   },
   {
    "duration": 1163,
    "start_time": "2022-10-01T13:50:25.593Z"
   },
   {
    "duration": 896,
    "start_time": "2022-10-01T13:50:45.840Z"
   },
   {
    "duration": 813,
    "start_time": "2022-10-01T13:53:38.823Z"
   },
   {
    "duration": 892,
    "start_time": "2022-10-01T13:54:15.921Z"
   },
   {
    "duration": 817,
    "start_time": "2022-10-01T13:54:28.386Z"
   },
   {
    "duration": 30,
    "start_time": "2022-10-01T13:54:48.506Z"
   },
   {
    "duration": 1082,
    "start_time": "2022-10-01T13:55:16.648Z"
   },
   {
    "duration": 31,
    "start_time": "2022-10-01T13:56:14.932Z"
   },
   {
    "duration": 1243,
    "start_time": "2022-10-01T13:56:27.896Z"
   },
   {
    "duration": 4,
    "start_time": "2022-10-01T13:56:34.386Z"
   },
   {
    "duration": 4,
    "start_time": "2022-10-01T13:56:41.393Z"
   },
   {
    "duration": 6,
    "start_time": "2022-10-01T13:57:50.512Z"
   },
   {
    "duration": 30,
    "start_time": "2022-10-01T13:58:17.531Z"
   },
   {
    "duration": 1099,
    "start_time": "2022-10-01T14:02:00.898Z"
   },
   {
    "duration": 10316,
    "start_time": "2022-10-01T14:03:08.245Z"
   },
   {
    "duration": 10733,
    "start_time": "2022-10-01T14:08:18.798Z"
   },
   {
    "duration": 11024,
    "start_time": "2022-10-01T14:08:58.746Z"
   },
   {
    "duration": 11792,
    "start_time": "2022-10-01T14:19:39.600Z"
   },
   {
    "duration": 11694,
    "start_time": "2022-10-01T14:21:23.326Z"
   },
   {
    "duration": 20472,
    "start_time": "2022-10-01T14:23:49.064Z"
   },
   {
    "duration": 11887,
    "start_time": "2022-10-01T14:24:41.345Z"
   },
   {
    "duration": 11136,
    "start_time": "2022-10-01T14:27:20.477Z"
   },
   {
    "duration": 11859,
    "start_time": "2022-10-01T14:28:28.556Z"
   },
   {
    "duration": 13552,
    "start_time": "2022-10-01T14:31:40.099Z"
   },
   {
    "duration": 11815,
    "start_time": "2022-10-01T14:32:46.531Z"
   },
   {
    "duration": 40,
    "start_time": "2022-10-01T14:33:24.651Z"
   },
   {
    "duration": 37,
    "start_time": "2022-10-01T14:34:14.610Z"
   },
   {
    "duration": 12246,
    "start_time": "2022-10-01T14:35:07.273Z"
   },
   {
    "duration": 33,
    "start_time": "2022-10-01T14:35:19.522Z"
   },
   {
    "duration": 72,
    "start_time": "2022-10-01T14:39:11.166Z"
   },
   {
    "duration": 88,
    "start_time": "2022-10-01T14:39:54.126Z"
   },
   {
    "duration": 40,
    "start_time": "2022-10-01T14:40:58.959Z"
   },
   {
    "duration": 38,
    "start_time": "2022-10-01T14:41:46.093Z"
   },
   {
    "duration": 15161,
    "start_time": "2022-10-01T14:42:08.399Z"
   },
   {
    "duration": 0,
    "start_time": "2022-10-01T14:42:23.562Z"
   },
   {
    "duration": 15222,
    "start_time": "2022-10-01T14:42:53.442Z"
   },
   {
    "duration": 0,
    "start_time": "2022-10-01T14:43:08.666Z"
   },
   {
    "duration": 7,
    "start_time": "2022-10-01T14:43:38.320Z"
   },
   {
    "duration": 1386,
    "start_time": "2022-10-01T14:45:52.273Z"
   },
   {
    "duration": 49,
    "start_time": "2022-10-01T14:45:53.662Z"
   },
   {
    "duration": 19,
    "start_time": "2022-10-01T14:45:53.714Z"
   },
   {
    "duration": 12,
    "start_time": "2022-10-01T14:45:53.735Z"
   },
   {
    "duration": 54,
    "start_time": "2022-10-01T14:45:53.748Z"
   },
   {
    "duration": 10,
    "start_time": "2022-10-01T14:45:53.807Z"
   },
   {
    "duration": 20,
    "start_time": "2022-10-01T14:45:53.818Z"
   },
   {
    "duration": 5,
    "start_time": "2022-10-01T14:45:53.839Z"
   },
   {
    "duration": 11,
    "start_time": "2022-10-01T14:45:53.846Z"
   },
   {
    "duration": 5,
    "start_time": "2022-10-01T14:45:53.860Z"
   },
   {
    "duration": 64,
    "start_time": "2022-10-01T14:45:53.867Z"
   },
   {
    "duration": 10,
    "start_time": "2022-10-01T14:45:53.933Z"
   },
   {
    "duration": 5,
    "start_time": "2022-10-01T14:45:53.945Z"
   },
   {
    "duration": 12,
    "start_time": "2022-10-01T14:45:53.952Z"
   },
   {
    "duration": 31,
    "start_time": "2022-10-01T14:45:53.965Z"
   },
   {
    "duration": 19,
    "start_time": "2022-10-01T14:45:54.004Z"
   },
   {
    "duration": 5,
    "start_time": "2022-10-01T14:45:54.024Z"
   },
   {
    "duration": 19,
    "start_time": "2022-10-01T14:45:54.031Z"
   },
   {
    "duration": 11,
    "start_time": "2022-10-01T14:45:54.052Z"
   },
   {
    "duration": 6,
    "start_time": "2022-10-01T14:45:54.065Z"
   },
   {
    "duration": 26,
    "start_time": "2022-10-01T14:45:54.072Z"
   },
   {
    "duration": 472,
    "start_time": "2022-10-01T14:45:54.099Z"
   },
   {
    "duration": 32,
    "start_time": "2022-10-01T14:45:54.577Z"
   },
   {
    "duration": 8,
    "start_time": "2022-10-01T14:46:05.040Z"
   },
   {
    "duration": 7,
    "start_time": "2022-10-01T14:46:33.117Z"
   },
   {
    "duration": 13008,
    "start_time": "2022-10-01T14:46:48.901Z"
   },
   {
    "duration": 54,
    "start_time": "2022-10-01T14:54:15.056Z"
   },
   {
    "duration": 11423,
    "start_time": "2022-10-01T14:54:52.503Z"
   },
   {
    "duration": 33,
    "start_time": "2022-10-01T14:55:20.304Z"
   },
   {
    "duration": 541,
    "start_time": "2022-10-01T14:59:33.918Z"
   },
   {
    "duration": 533,
    "start_time": "2022-10-01T15:00:29.104Z"
   },
   {
    "duration": 32,
    "start_time": "2022-10-01T15:01:03.204Z"
   },
   {
    "duration": 41,
    "start_time": "2022-10-01T15:02:01.480Z"
   },
   {
    "duration": 38,
    "start_time": "2022-10-01T15:02:57.483Z"
   },
   {
    "duration": 45,
    "start_time": "2022-10-01T15:03:28.159Z"
   },
   {
    "duration": 284,
    "start_time": "2022-10-01T15:04:33.886Z"
   },
   {
    "duration": 31,
    "start_time": "2022-10-01T15:04:47.296Z"
   },
   {
    "duration": 17,
    "start_time": "2022-10-01T15:08:44.921Z"
   },
   {
    "duration": 12165,
    "start_time": "2022-10-01T15:09:03.971Z"
   },
   {
    "duration": 33,
    "start_time": "2022-10-01T15:09:28.469Z"
   },
   {
    "duration": 16,
    "start_time": "2022-10-01T15:11:12.015Z"
   },
   {
    "duration": 18,
    "start_time": "2022-10-01T15:12:11.754Z"
   },
   {
    "duration": 11511,
    "start_time": "2022-10-01T15:12:43.402Z"
   },
   {
    "duration": 585,
    "start_time": "2022-10-01T15:19:46.031Z"
   },
   {
    "duration": 470,
    "start_time": "2022-10-01T15:20:03.561Z"
   },
   {
    "duration": 61,
    "start_time": "2022-10-01T15:38:11.257Z"
   },
   {
    "duration": 75,
    "start_time": "2022-10-01T15:38:15.853Z"
   },
   {
    "duration": 65,
    "start_time": "2022-10-01T15:38:16.860Z"
   },
   {
    "duration": 479,
    "start_time": "2022-10-01T15:47:08.033Z"
   },
   {
    "duration": 25,
    "start_time": "2022-10-01T15:51:46.641Z"
   },
   {
    "duration": 119,
    "start_time": "2022-10-01T15:52:43.131Z"
   },
   {
    "duration": 5,
    "start_time": "2022-10-01T15:54:05.180Z"
   },
   {
    "duration": 18,
    "start_time": "2022-10-01T15:54:07.185Z"
   },
   {
    "duration": 48,
    "start_time": "2022-10-01T15:54:22.569Z"
   },
   {
    "duration": 53,
    "start_time": "2022-10-01T15:55:49.949Z"
   },
   {
    "duration": 28,
    "start_time": "2022-10-01T15:56:14.402Z"
   },
   {
    "duration": 44,
    "start_time": "2022-10-01T15:57:27.469Z"
   },
   {
    "duration": 41,
    "start_time": "2022-10-01T16:07:19.251Z"
   },
   {
    "duration": 43,
    "start_time": "2022-10-01T16:07:46.947Z"
   },
   {
    "duration": 36,
    "start_time": "2022-10-01T16:12:32.936Z"
   },
   {
    "duration": 28,
    "start_time": "2022-10-01T16:14:12.223Z"
   },
   {
    "duration": 1627,
    "start_time": "2022-10-02T06:43:38.157Z"
   },
   {
    "duration": 20,
    "start_time": "2022-10-02T06:43:39.786Z"
   },
   {
    "duration": 14,
    "start_time": "2022-10-02T06:43:39.807Z"
   },
   {
    "duration": 15,
    "start_time": "2022-10-02T06:43:39.822Z"
   },
   {
    "duration": 38,
    "start_time": "2022-10-02T06:43:39.839Z"
   },
   {
    "duration": 3,
    "start_time": "2022-10-02T06:43:39.879Z"
   },
   {
    "duration": 17,
    "start_time": "2022-10-02T06:43:39.884Z"
   },
   {
    "duration": 5,
    "start_time": "2022-10-02T06:43:39.903Z"
   },
   {
    "duration": 19,
    "start_time": "2022-10-02T06:43:39.909Z"
   },
   {
    "duration": 5,
    "start_time": "2022-10-02T06:43:39.929Z"
   },
   {
    "duration": 45,
    "start_time": "2022-10-02T06:43:39.936Z"
   },
   {
    "duration": 10,
    "start_time": "2022-10-02T06:43:39.982Z"
   },
   {
    "duration": 9,
    "start_time": "2022-10-02T06:43:39.993Z"
   },
   {
    "duration": 14,
    "start_time": "2022-10-02T06:43:40.004Z"
   },
   {
    "duration": 19,
    "start_time": "2022-10-02T06:43:40.020Z"
   },
   {
    "duration": 17,
    "start_time": "2022-10-02T06:43:40.054Z"
   },
   {
    "duration": 3,
    "start_time": "2022-10-02T06:43:40.073Z"
   },
   {
    "duration": 15,
    "start_time": "2022-10-02T06:43:40.078Z"
   },
   {
    "duration": 10,
    "start_time": "2022-10-02T06:43:40.094Z"
   },
   {
    "duration": 11,
    "start_time": "2022-10-02T06:43:40.105Z"
   },
   {
    "duration": 25,
    "start_time": "2022-10-02T06:43:40.117Z"
   },
   {
    "duration": 471,
    "start_time": "2022-10-02T06:43:40.144Z"
   },
   {
    "duration": 27,
    "start_time": "2022-10-02T06:43:51.176Z"
   },
   {
    "duration": 988,
    "start_time": "2022-10-02T06:45:21.718Z"
   },
   {
    "duration": 28,
    "start_time": "2022-10-02T06:45:43.256Z"
   },
   {
    "duration": 30,
    "start_time": "2022-10-02T06:46:00.976Z"
   },
   {
    "duration": 53,
    "start_time": "2022-10-03T08:30:16.868Z"
   },
   {
    "duration": 0,
    "start_time": "2022-10-03T08:30:16.922Z"
   },
   {
    "duration": 0,
    "start_time": "2022-10-03T08:30:16.923Z"
   },
   {
    "duration": 8,
    "start_time": "2022-10-03T08:30:16.925Z"
   },
   {
    "duration": 1595,
    "start_time": "2022-10-03T08:54:05.120Z"
   },
   {
    "duration": 19,
    "start_time": "2022-10-03T08:54:06.717Z"
   },
   {
    "duration": 15,
    "start_time": "2022-10-03T08:54:06.738Z"
   },
   {
    "duration": 10,
    "start_time": "2022-10-03T08:54:06.754Z"
   },
   {
    "duration": 49,
    "start_time": "2022-10-03T08:54:06.765Z"
   },
   {
    "duration": 4,
    "start_time": "2022-10-03T08:54:06.816Z"
   },
   {
    "duration": 31,
    "start_time": "2022-10-03T08:54:06.822Z"
   },
   {
    "duration": 4,
    "start_time": "2022-10-03T08:54:06.855Z"
   },
   {
    "duration": 7,
    "start_time": "2022-10-03T08:54:06.860Z"
   },
   {
    "duration": 4,
    "start_time": "2022-10-03T08:54:06.869Z"
   },
   {
    "duration": 43,
    "start_time": "2022-10-03T08:54:06.874Z"
   },
   {
    "duration": 10,
    "start_time": "2022-10-03T08:54:06.918Z"
   },
   {
    "duration": 3,
    "start_time": "2022-10-03T08:54:06.930Z"
   },
   {
    "duration": 13,
    "start_time": "2022-10-03T08:54:06.935Z"
   },
   {
    "duration": 18,
    "start_time": "2022-10-03T08:54:06.949Z"
   },
   {
    "duration": 15,
    "start_time": "2022-10-03T08:54:06.968Z"
   },
   {
    "duration": 4,
    "start_time": "2022-10-03T08:54:07.009Z"
   },
   {
    "duration": 26,
    "start_time": "2022-10-03T08:54:07.015Z"
   },
   {
    "duration": 5,
    "start_time": "2022-10-03T08:54:07.042Z"
   },
   {
    "duration": 6,
    "start_time": "2022-10-03T08:54:07.049Z"
   },
   {
    "duration": 12,
    "start_time": "2022-10-03T08:54:07.056Z"
   },
   {
    "duration": 457,
    "start_time": "2022-10-03T08:54:07.070Z"
   },
   {
    "duration": 24,
    "start_time": "2022-10-03T08:54:07.529Z"
   },
   {
    "duration": 23,
    "start_time": "2022-10-03T08:54:07.555Z"
   },
   {
    "duration": 119,
    "start_time": "2022-10-03T08:54:07.580Z"
   },
   {
    "duration": 389,
    "start_time": "2022-10-03T08:54:10.111Z"
   },
   {
    "duration": 25,
    "start_time": "2022-10-03T08:55:43.374Z"
   },
   {
    "duration": 33,
    "start_time": "2022-10-03T09:06:38.843Z"
   },
   {
    "duration": 33,
    "start_time": "2022-10-03T09:07:16.185Z"
   },
   {
    "duration": 1461,
    "start_time": "2022-10-03T09:09:21.557Z"
   },
   {
    "duration": 1268,
    "start_time": "2022-10-03T09:09:36.901Z"
   },
   {
    "duration": 1659,
    "start_time": "2022-10-03T09:10:32.791Z"
   },
   {
    "duration": 31,
    "start_time": "2022-10-03T09:11:05.300Z"
   },
   {
    "duration": 33,
    "start_time": "2022-10-03T09:11:34.607Z"
   },
   {
    "duration": 33,
    "start_time": "2022-10-03T10:19:41.440Z"
   },
   {
    "duration": 36,
    "start_time": "2022-10-03T10:21:24.833Z"
   },
   {
    "duration": 31,
    "start_time": "2022-10-03T10:26:38.456Z"
   },
   {
    "duration": 41,
    "start_time": "2022-10-03T10:28:42.673Z"
   },
   {
    "duration": 27,
    "start_time": "2022-10-03T10:28:59.808Z"
   },
   {
    "duration": 35,
    "start_time": "2022-10-03T10:29:14.314Z"
   },
   {
    "duration": 36,
    "start_time": "2022-10-03T10:30:28.692Z"
   },
   {
    "duration": 33,
    "start_time": "2022-10-03T10:30:53.619Z"
   },
   {
    "duration": 35,
    "start_time": "2022-10-03T10:39:26.707Z"
   },
   {
    "duration": 45,
    "start_time": "2022-10-03T10:49:29.652Z"
   },
   {
    "duration": 45,
    "start_time": "2022-10-03T10:53:03.023Z"
   },
   {
    "duration": 46,
    "start_time": "2022-10-03T11:30:20.746Z"
   },
   {
    "duration": 1671,
    "start_time": "2022-10-03T11:30:27.567Z"
   },
   {
    "duration": 18,
    "start_time": "2022-10-03T11:30:29.240Z"
   },
   {
    "duration": 24,
    "start_time": "2022-10-03T11:30:29.260Z"
   },
   {
    "duration": 13,
    "start_time": "2022-10-03T11:30:29.286Z"
   },
   {
    "duration": 37,
    "start_time": "2022-10-03T11:30:29.301Z"
   },
   {
    "duration": 3,
    "start_time": "2022-10-03T11:30:29.340Z"
   },
   {
    "duration": 33,
    "start_time": "2022-10-03T11:30:29.345Z"
   },
   {
    "duration": 11,
    "start_time": "2022-10-03T11:30:29.379Z"
   },
   {
    "duration": 33,
    "start_time": "2022-10-03T11:30:29.391Z"
   },
   {
    "duration": 26,
    "start_time": "2022-10-03T11:30:29.425Z"
   },
   {
    "duration": 45,
    "start_time": "2022-10-03T11:30:29.453Z"
   },
   {
    "duration": 11,
    "start_time": "2022-10-03T11:30:29.499Z"
   },
   {
    "duration": 18,
    "start_time": "2022-10-03T11:30:29.512Z"
   },
   {
    "duration": 23,
    "start_time": "2022-10-03T11:30:29.533Z"
   },
   {
    "duration": 36,
    "start_time": "2022-10-03T11:30:29.558Z"
   },
   {
    "duration": 25,
    "start_time": "2022-10-03T11:30:29.596Z"
   },
   {
    "duration": 13,
    "start_time": "2022-10-03T11:30:29.623Z"
   },
   {
    "duration": 33,
    "start_time": "2022-10-03T11:30:29.637Z"
   },
   {
    "duration": 24,
    "start_time": "2022-10-03T11:30:29.672Z"
   },
   {
    "duration": 40,
    "start_time": "2022-10-03T11:30:29.698Z"
   },
   {
    "duration": 38,
    "start_time": "2022-10-03T11:30:29.740Z"
   },
   {
    "duration": 462,
    "start_time": "2022-10-03T11:30:29.780Z"
   },
   {
    "duration": 25,
    "start_time": "2022-10-03T11:30:30.244Z"
   },
   {
    "duration": 56,
    "start_time": "2022-10-03T11:30:30.271Z"
   },
   {
    "duration": 79,
    "start_time": "2022-10-03T11:30:30.329Z"
   },
   {
    "duration": 0,
    "start_time": "2022-10-03T11:30:30.410Z"
   },
   {
    "duration": 0,
    "start_time": "2022-10-03T11:30:30.411Z"
   },
   {
    "duration": 0,
    "start_time": "2022-10-03T11:30:30.412Z"
   },
   {
    "duration": 70,
    "start_time": "2022-10-03T11:49:17.522Z"
   },
   {
    "duration": 19,
    "start_time": "2022-10-03T11:49:17.653Z"
   },
   {
    "duration": 19,
    "start_time": "2022-10-03T11:49:17.676Z"
   },
   {
    "duration": 10,
    "start_time": "2022-10-03T11:49:17.697Z"
   },
   {
    "duration": 34,
    "start_time": "2022-10-03T11:49:17.709Z"
   },
   {
    "duration": 4,
    "start_time": "2022-10-03T11:49:17.745Z"
   },
   {
    "duration": 11,
    "start_time": "2022-10-03T11:49:17.750Z"
   },
   {
    "duration": 4,
    "start_time": "2022-10-03T11:49:17.763Z"
   },
   {
    "duration": 11,
    "start_time": "2022-10-03T11:49:17.769Z"
   },
   {
    "duration": 29,
    "start_time": "2022-10-03T11:49:17.781Z"
   },
   {
    "duration": 33,
    "start_time": "2022-10-03T11:49:17.811Z"
   },
   {
    "duration": 9,
    "start_time": "2022-10-03T11:49:17.846Z"
   },
   {
    "duration": 3,
    "start_time": "2022-10-03T11:49:17.857Z"
   },
   {
    "duration": 15,
    "start_time": "2022-10-03T11:49:17.863Z"
   },
   {
    "duration": 48,
    "start_time": "2022-10-03T11:49:17.879Z"
   },
   {
    "duration": 17,
    "start_time": "2022-10-03T11:49:17.928Z"
   },
   {
    "duration": 3,
    "start_time": "2022-10-03T11:49:17.946Z"
   },
   {
    "duration": 14,
    "start_time": "2022-10-03T11:49:17.951Z"
   },
   {
    "duration": 5,
    "start_time": "2022-10-03T11:49:17.966Z"
   },
   {
    "duration": 3,
    "start_time": "2022-10-03T11:49:17.973Z"
   },
   {
    "duration": 9,
    "start_time": "2022-10-03T11:49:17.977Z"
   },
   {
    "duration": 385,
    "start_time": "2022-10-03T11:49:17.988Z"
   },
   {
    "duration": 24,
    "start_time": "2022-10-03T11:49:18.374Z"
   },
   {
    "duration": 20,
    "start_time": "2022-10-03T11:49:18.408Z"
   },
   {
    "duration": 10,
    "start_time": "2022-10-03T11:49:18.430Z"
   },
   {
    "duration": 0,
    "start_time": "2022-10-03T11:49:18.442Z"
   },
   {
    "duration": 0,
    "start_time": "2022-10-03T11:49:18.442Z"
   },
   {
    "duration": 20,
    "start_time": "2022-10-03T11:52:04.941Z"
   },
   {
    "duration": 21,
    "start_time": "2022-10-03T11:52:15.699Z"
   },
   {
    "duration": 21,
    "start_time": "2022-10-03T11:52:34.099Z"
   },
   {
    "duration": 20,
    "start_time": "2022-10-03T11:52:41.000Z"
   },
   {
    "duration": 22,
    "start_time": "2022-10-03T11:53:38.283Z"
   },
   {
    "duration": 22,
    "start_time": "2022-10-03T11:54:18.941Z"
   },
   {
    "duration": 1180,
    "start_time": "2022-10-03T11:54:32.522Z"
   },
   {
    "duration": 20,
    "start_time": "2022-10-03T11:54:33.704Z"
   },
   {
    "duration": 14,
    "start_time": "2022-10-03T11:54:33.726Z"
   },
   {
    "duration": 9,
    "start_time": "2022-10-03T11:54:33.741Z"
   },
   {
    "duration": 36,
    "start_time": "2022-10-03T11:54:33.752Z"
   },
   {
    "duration": 21,
    "start_time": "2022-10-03T11:54:33.790Z"
   },
   {
    "duration": 12,
    "start_time": "2022-10-03T11:54:33.812Z"
   },
   {
    "duration": 4,
    "start_time": "2022-10-03T11:54:33.826Z"
   },
   {
    "duration": 11,
    "start_time": "2022-10-03T11:54:33.832Z"
   },
   {
    "duration": 5,
    "start_time": "2022-10-03T11:54:33.846Z"
   },
   {
    "duration": 68,
    "start_time": "2022-10-03T11:54:33.853Z"
   },
   {
    "duration": 9,
    "start_time": "2022-10-03T11:54:33.923Z"
   },
   {
    "duration": 4,
    "start_time": "2022-10-03T11:54:33.934Z"
   },
   {
    "duration": 14,
    "start_time": "2022-10-03T11:54:33.939Z"
   },
   {
    "duration": 21,
    "start_time": "2022-10-03T11:54:33.954Z"
   },
   {
    "duration": 34,
    "start_time": "2022-10-03T11:54:33.976Z"
   },
   {
    "duration": 5,
    "start_time": "2022-10-03T11:54:34.011Z"
   },
   {
    "duration": 12,
    "start_time": "2022-10-03T11:54:34.018Z"
   },
   {
    "duration": 7,
    "start_time": "2022-10-03T11:54:34.032Z"
   },
   {
    "duration": 4,
    "start_time": "2022-10-03T11:54:34.041Z"
   },
   {
    "duration": 10,
    "start_time": "2022-10-03T11:54:34.046Z"
   },
   {
    "duration": 432,
    "start_time": "2022-10-03T11:54:34.057Z"
   },
   {
    "duration": 38,
    "start_time": "2022-10-03T11:54:34.490Z"
   },
   {
    "duration": 18,
    "start_time": "2022-10-03T11:54:34.529Z"
   },
   {
    "duration": 122,
    "start_time": "2022-10-03T11:54:37.187Z"
   },
   {
    "duration": 25,
    "start_time": "2022-10-03T11:55:25.384Z"
   },
   {
    "duration": 50,
    "start_time": "2023-06-29T16:39:25.184Z"
   },
   {
    "duration": 1501,
    "start_time": "2023-06-29T16:39:32.061Z"
   },
   {
    "duration": 19,
    "start_time": "2023-06-29T16:39:33.563Z"
   },
   {
    "duration": 15,
    "start_time": "2023-06-29T16:39:33.583Z"
   },
   {
    "duration": 9,
    "start_time": "2023-06-29T16:39:33.600Z"
   },
   {
    "duration": 29,
    "start_time": "2023-06-29T16:39:33.610Z"
   },
   {
    "duration": 3,
    "start_time": "2023-06-29T16:39:33.641Z"
   },
   {
    "duration": 12,
    "start_time": "2023-06-29T16:39:33.646Z"
   },
   {
    "duration": 7,
    "start_time": "2023-06-29T16:39:33.659Z"
   },
   {
    "duration": 14,
    "start_time": "2023-06-29T16:39:33.667Z"
   },
   {
    "duration": 13,
    "start_time": "2023-06-29T16:39:33.700Z"
   },
   {
    "duration": 50,
    "start_time": "2023-06-29T16:39:33.714Z"
   },
   {
    "duration": 13,
    "start_time": "2023-06-29T16:39:33.765Z"
   },
   {
    "duration": 3,
    "start_time": "2023-06-29T16:39:33.780Z"
   },
   {
    "duration": 31,
    "start_time": "2023-06-29T16:39:33.785Z"
   },
   {
    "duration": 25,
    "start_time": "2023-06-29T16:39:33.818Z"
   },
   {
    "duration": 23,
    "start_time": "2023-06-29T16:39:33.844Z"
   },
   {
    "duration": 4,
    "start_time": "2023-06-29T16:39:33.869Z"
   },
   {
    "duration": 34,
    "start_time": "2023-06-29T16:39:33.874Z"
   },
   {
    "duration": 7,
    "start_time": "2023-06-29T16:39:33.909Z"
   },
   {
    "duration": 9,
    "start_time": "2023-06-29T16:39:33.917Z"
   },
   {
    "duration": 18,
    "start_time": "2023-06-29T16:39:33.927Z"
   },
   {
    "duration": 432,
    "start_time": "2023-06-29T16:39:33.947Z"
   },
   {
    "duration": 29,
    "start_time": "2023-06-29T16:39:34.381Z"
   },
   {
    "duration": 19,
    "start_time": "2023-06-29T16:39:34.411Z"
   },
   {
    "duration": 22,
    "start_time": "2023-06-29T16:39:34.433Z"
   },
   {
    "duration": 412,
    "start_time": "2023-06-29T16:39:34.457Z"
   },
   {
    "duration": 48,
    "start_time": "2023-06-29T16:39:34.870Z"
   }
  ],
  "celltoolbar": "Необработанный формат ячейки",
  "colab": {
   "name": "dpp_template_part2.ipynb",
   "provenance": []
  },
  "kernelspec": {
   "display_name": "Python 3 (ipykernel)",
   "language": "python",
   "name": "python3"
  },
  "language_info": {
   "codemirror_mode": {
    "name": "ipython",
    "version": 3
   },
   "file_extension": ".py",
   "mimetype": "text/x-python",
   "name": "python",
   "nbconvert_exporter": "python",
   "pygments_lexer": "ipython3",
   "version": "3.9.13"
  },
  "toc": {
   "base_numbering": 1,
   "nav_menu": {},
   "number_sections": true,
   "sideBar": true,
   "skip_h1_title": true,
   "title_cell": "Table of Contents",
   "title_sidebar": "Contents",
   "toc_cell": false,
   "toc_position": {},
   "toc_section_display": true,
   "toc_window_display": false
  }
 },
 "nbformat": 4,
 "nbformat_minor": 5
}
